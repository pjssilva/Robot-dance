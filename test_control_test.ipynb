{
 "cells": [
  {
   "cell_type": "markdown",
   "metadata": {},
   "source": [
    "# New case studies for Robot Dance paper"
   ]
  },
  {
   "cell_type": "code",
   "execution_count": 1,
   "metadata": {
    "tags": []
   },
   "outputs": [
    {
     "output_type": "stream",
     "name": "stdout",
     "text": "Loading modules...\nLoading modules... Ok!\nLoading PyJulia module...\nLoading PyJulia module... Ok!\nLoading Robot-dance Julia module...\nLoading Robot-dance Julia module... Ok!\nLoading Julia library...\nLoading Julia library... Ok!\nLoading Robot-dance Julia module...\nLoading Robot-dance Julia module... Ok!\nLoading PyJulia module...\nLoading PyJulia module... Ok!\nLoading Robot-dance Julia module...\nLoading Robot-dance Julia module... Ok!\nLoading modules...\nLoading modules... Ok!\nLoading Julia library...\nLoading Julia library... Ok!\nLoading Robot-dance Julia module...\nLoading Robot-dance Julia module... Ok!\n"
    },
    {
     "output_type": "execute_result",
     "data": {
      "text/plain": "<module 'run_robot' from '/home/pjssilva/documentos/pesquisa/robot_dance/code/run_robot.py'>"
     },
     "metadata": {},
     "execution_count": 1
    }
   ],
   "source": [
    "import os\n",
    "import pandas as pd\n",
    "import numpy as np\n",
    "import datetime\n",
    "\n",
    "import run_robot\n",
    "import prepare_data\n",
    "from importlib import reload\n",
    "reload(prepare_data)\n",
    "reload(run_robot)"
   ]
  },
  {
   "cell_type": "code",
   "execution_count": 2,
   "metadata": {
    "tags": []
   },
   "outputs": [
    {
     "output_type": "stream",
     "name": "stdout",
     "text": "\n1/22 Araraquara                     Mean effective R in the last two weeks = 1.06\n2/22 Araçatuba                      Mean effective R in the last two weeks = 0.82\n3/22 Baixada Santista               Mean effective R in the last two weeks = 0.83\n4/22 Barretos                       Mean effective R in the last two weeks = 1.17\n5/22 Bauru                          Mean effective R in the last two weeks = 0.93\n6/22 Campinas                       Mean effective R in the last two weeks = 0.94\n7/22 Franca                         Mean effective R in the last two weeks = 1.10\n8/22 Marília                        Mean effective R in the last two weeks = 0.98\n9/22 Mun. São Paulo                 Mean effective R in the last two weeks = 1.18\n10/22 Piracicaba                     Mean effective R in the last two weeks = 0.83\n11/22 Presidente Prudente            Mean effective R in the last two weeks = 1.01\n12/22 Registro                       Mean effective R in the last two weeks = 0.75\n13/22 Ribeirão Preto                 Mean effective R in the last two weeks = 0.93\n14/22 Sorocaba                       Mean effective R in the last two weeks = 0.91\n15/22 Sub região leste - RMSP        Mean effective R in the last two weeks = 1.01\n16/22 Sub região norte - RMSP        Mean effective R in the last two weeks = 0.94\n17/22 Sub região oeste - RMSP        Mean effective R in the last two weeks = 0.84\n18/22 Sub região sudeste - RMSP      Mean effective R in the last two weeks = 0.75\n19/22 Sub região sudoeste - RMSP     Mean effective R in the last two weeks = 1.13\n20/22 São José do Rio Preto          Mean effective R in the last two weeks = 0.92\n21/22 São João da Boa Vista          Mean effective R in the last two weeks = 0.88\n22/22 Taubaté                        Mean effective R in the last two weeks = 1.02\n"
    }
   ],
   "source": [
    "# Define the basic data for the case studies\n",
    "\n",
    "# Compute initial values for first run and read the cities and other initial data\n",
    "basic_prm = prepare_data.save_basic_parameters(min_level=0.8, rep=2.0, ndays=(180 + 28), tinf=2.9)\n",
    "\n",
    "# Compute initial values and read mobility matrix\n",
    "\n",
    "# For cities\n",
    "# cities_data = prepare_data.compute_initial_condition_evolve_and_save(basic_prm, \"SP\", [\"Araçatuba\", \"São José Do Rio Preto\"], 500000, 1)\n",
    "# cities_data = prepare_data.compute_initial_condition_evolve_and_save(basic_prm, \"SP\", [\"São José Do Rio Preto\"], 25000, 6, 1)\n",
    "# M = prepare_data.convert_mobility_matrix_and_save(cities_data, max_neighbors=3, drs=False)\n",
    "\n",
    "# For DRS\n",
    "cities_data = prepare_data.compute_initial_condition_evolve_and_save(basic_prm, \"SP\", [], 1, 11, 1, \"data/covid_with_drs.csv\")\n",
    "M = prepare_data.convert_mobility_matrix_and_save(cities_data, max_neighbors=3, drs=True)"
   ]
  },
  {
   "cell_type": "code",
   "execution_count": 3,
   "metadata": {},
   "outputs": [
    {
     "output_type": "execute_result",
     "data": {
      "text/plain": "                                  S1        E1        I1        R1  \\\nAraraquara                  0.889736  0.011811  0.006431  0.092022   \nAraçatuba                   0.838660  0.012077  0.007199  0.142063   \nBaixada Santista            0.720415  0.012210  0.007589  0.259786   \nBarretos                    0.805661  0.024076  0.012629  0.157634   \nBauru                       0.851467  0.012542  0.007166  0.128826   \nCampinas                    0.789877  0.016339  0.009273  0.184512   \nFranca                      0.900668  0.012725  0.006946  0.079661   \nMarília                     0.917700  0.007609  0.004271  0.070419   \nMun. São Paulo              0.760179  0.016623  0.008394  0.214804   \nPiracicaba                  0.798626  0.013631  0.008099  0.179644   \nPresidente Prudente         0.896299  0.010770  0.005973  0.086958   \nRegistro                    0.790925  0.015197  0.009332  0.184546   \nRibeirão Preto              0.795614  0.015604  0.008914  0.179868   \nSorocaba                    0.863369  0.009660  0.005567  0.121404   \nSub região leste - RMSP     0.860627  0.009007  0.004999  0.125367   \nSub região norte - RMSP     0.852350  0.009599  0.005462  0.132589   \nSub região oeste - RMSP     0.816348  0.010438  0.006197  0.167017   \nSub região sudeste - RMSP   0.790628  0.008786  0.005401  0.195184   \nSub região sudoeste - RMSP  0.840579  0.013232  0.007038  0.139152   \nSão José do Rio Preto       0.725618  0.026390  0.015359  0.232633   \nSão João da Boa Vista       0.891264  0.009723  0.005385  0.093628   \nTaubaté                     0.859746  0.013661  0.007541  0.119052   \n\n                            population  icu_capacity  \nAraraquara                    991435.0      0.000150  \nAraçatuba                     764041.0      0.000172  \nBaixada Santista             1831884.0      0.000259  \nBarretos                      425090.0      0.000174  \nBauru                        1741281.0      0.000126  \nCampinas                     4562125.0      0.000208  \nFranca                        691672.0      0.000121  \nMarília                      1109670.0      0.000151  \nMun. São Paulo              11869660.0      0.000302  \nPiracicaba                   1539600.0      0.000178  \nPresidente Prudente           752260.0      0.000101  \nRegistro                      278754.0      0.000140  \nRibeirão Preto               1477530.0      0.000234  \nSorocaba                     2461760.0      0.000112  \nSub região leste - RMSP      2977781.0      0.000159  \nSub região norte - RMSP       603465.0      0.000171  \nSub região oeste - RMSP      1858252.0      0.000173  \nSub região sudeste - RMSP    2690590.0      0.000311  \nSub região sudoeste - RMSP   1138499.0      0.000082  \nSão José do Rio Preto        1570421.0      0.000254  \nSão João da Boa Vista         809836.0      0.000157  \nTaubaté                      2489629.0      0.000194  ",
      "text/html": "<div>\n<style scoped>\n    .dataframe tbody tr th:only-of-type {\n        vertical-align: middle;\n    }\n\n    .dataframe tbody tr th {\n        vertical-align: top;\n    }\n\n    .dataframe thead th {\n        text-align: right;\n    }\n</style>\n<table border=\"1\" class=\"dataframe\">\n  <thead>\n    <tr style=\"text-align: right;\">\n      <th></th>\n      <th>S1</th>\n      <th>E1</th>\n      <th>I1</th>\n      <th>R1</th>\n      <th>population</th>\n      <th>icu_capacity</th>\n    </tr>\n  </thead>\n  <tbody>\n    <tr>\n      <th>Araraquara</th>\n      <td>0.889736</td>\n      <td>0.011811</td>\n      <td>0.006431</td>\n      <td>0.092022</td>\n      <td>991435.0</td>\n      <td>0.000150</td>\n    </tr>\n    <tr>\n      <th>Araçatuba</th>\n      <td>0.838660</td>\n      <td>0.012077</td>\n      <td>0.007199</td>\n      <td>0.142063</td>\n      <td>764041.0</td>\n      <td>0.000172</td>\n    </tr>\n    <tr>\n      <th>Baixada Santista</th>\n      <td>0.720415</td>\n      <td>0.012210</td>\n      <td>0.007589</td>\n      <td>0.259786</td>\n      <td>1831884.0</td>\n      <td>0.000259</td>\n    </tr>\n    <tr>\n      <th>Barretos</th>\n      <td>0.805661</td>\n      <td>0.024076</td>\n      <td>0.012629</td>\n      <td>0.157634</td>\n      <td>425090.0</td>\n      <td>0.000174</td>\n    </tr>\n    <tr>\n      <th>Bauru</th>\n      <td>0.851467</td>\n      <td>0.012542</td>\n      <td>0.007166</td>\n      <td>0.128826</td>\n      <td>1741281.0</td>\n      <td>0.000126</td>\n    </tr>\n    <tr>\n      <th>Campinas</th>\n      <td>0.789877</td>\n      <td>0.016339</td>\n      <td>0.009273</td>\n      <td>0.184512</td>\n      <td>4562125.0</td>\n      <td>0.000208</td>\n    </tr>\n    <tr>\n      <th>Franca</th>\n      <td>0.900668</td>\n      <td>0.012725</td>\n      <td>0.006946</td>\n      <td>0.079661</td>\n      <td>691672.0</td>\n      <td>0.000121</td>\n    </tr>\n    <tr>\n      <th>Marília</th>\n      <td>0.917700</td>\n      <td>0.007609</td>\n      <td>0.004271</td>\n      <td>0.070419</td>\n      <td>1109670.0</td>\n      <td>0.000151</td>\n    </tr>\n    <tr>\n      <th>Mun. São Paulo</th>\n      <td>0.760179</td>\n      <td>0.016623</td>\n      <td>0.008394</td>\n      <td>0.214804</td>\n      <td>11869660.0</td>\n      <td>0.000302</td>\n    </tr>\n    <tr>\n      <th>Piracicaba</th>\n      <td>0.798626</td>\n      <td>0.013631</td>\n      <td>0.008099</td>\n      <td>0.179644</td>\n      <td>1539600.0</td>\n      <td>0.000178</td>\n    </tr>\n    <tr>\n      <th>Presidente Prudente</th>\n      <td>0.896299</td>\n      <td>0.010770</td>\n      <td>0.005973</td>\n      <td>0.086958</td>\n      <td>752260.0</td>\n      <td>0.000101</td>\n    </tr>\n    <tr>\n      <th>Registro</th>\n      <td>0.790925</td>\n      <td>0.015197</td>\n      <td>0.009332</td>\n      <td>0.184546</td>\n      <td>278754.0</td>\n      <td>0.000140</td>\n    </tr>\n    <tr>\n      <th>Ribeirão Preto</th>\n      <td>0.795614</td>\n      <td>0.015604</td>\n      <td>0.008914</td>\n      <td>0.179868</td>\n      <td>1477530.0</td>\n      <td>0.000234</td>\n    </tr>\n    <tr>\n      <th>Sorocaba</th>\n      <td>0.863369</td>\n      <td>0.009660</td>\n      <td>0.005567</td>\n      <td>0.121404</td>\n      <td>2461760.0</td>\n      <td>0.000112</td>\n    </tr>\n    <tr>\n      <th>Sub região leste - RMSP</th>\n      <td>0.860627</td>\n      <td>0.009007</td>\n      <td>0.004999</td>\n      <td>0.125367</td>\n      <td>2977781.0</td>\n      <td>0.000159</td>\n    </tr>\n    <tr>\n      <th>Sub região norte - RMSP</th>\n      <td>0.852350</td>\n      <td>0.009599</td>\n      <td>0.005462</td>\n      <td>0.132589</td>\n      <td>603465.0</td>\n      <td>0.000171</td>\n    </tr>\n    <tr>\n      <th>Sub região oeste - RMSP</th>\n      <td>0.816348</td>\n      <td>0.010438</td>\n      <td>0.006197</td>\n      <td>0.167017</td>\n      <td>1858252.0</td>\n      <td>0.000173</td>\n    </tr>\n    <tr>\n      <th>Sub região sudeste - RMSP</th>\n      <td>0.790628</td>\n      <td>0.008786</td>\n      <td>0.005401</td>\n      <td>0.195184</td>\n      <td>2690590.0</td>\n      <td>0.000311</td>\n    </tr>\n    <tr>\n      <th>Sub região sudoeste - RMSP</th>\n      <td>0.840579</td>\n      <td>0.013232</td>\n      <td>0.007038</td>\n      <td>0.139152</td>\n      <td>1138499.0</td>\n      <td>0.000082</td>\n    </tr>\n    <tr>\n      <th>São José do Rio Preto</th>\n      <td>0.725618</td>\n      <td>0.026390</td>\n      <td>0.015359</td>\n      <td>0.232633</td>\n      <td>1570421.0</td>\n      <td>0.000254</td>\n    </tr>\n    <tr>\n      <th>São João da Boa Vista</th>\n      <td>0.891264</td>\n      <td>0.009723</td>\n      <td>0.005385</td>\n      <td>0.093628</td>\n      <td>809836.0</td>\n      <td>0.000157</td>\n    </tr>\n    <tr>\n      <th>Taubaté</th>\n      <td>0.859746</td>\n      <td>0.013661</td>\n      <td>0.007541</td>\n      <td>0.119052</td>\n      <td>2489629.0</td>\n      <td>0.000194</td>\n    </tr>\n  </tbody>\n</table>\n</div>"
     },
     "metadata": {},
     "execution_count": 3
    }
   ],
   "source": [
    "cities_data = pd.read_csv(\"data/cities_data.csv\", index_col=0)\n",
    "\n",
    "# Create a target matrix (max infected level)\n",
    "ncities, ndays = len(cities_data.index), int(basic_prm[\"ndays\"])\n",
    "target = np.ones((ncities, ndays))\n",
    "target = prepare_data.save_target(cities_data, target)\n",
    "hammer_data = prepare_data.save_hammer_data(cities_data, 0, 0.8)\n",
    "\n",
    "# Use a forcedif that releases the cities in the end\n",
    "force_dif = np.ones((ncities, ndays))\n",
    "cities_data"
   ]
  },
  {
   "cell_type": "markdown",
   "metadata": {},
   "source": [
    "## Case 1: 14 day window, official data"
   ]
  },
  {
   "cell_type": "code",
   "execution_count": 4,
   "metadata": {
    "tags": []
   },
   "outputs": [
    {
     "output_type": "stream",
     "name": "stdout",
     "text": "Checking if initial hammer is long enough...\nTime to simulate: 0.35\nAraraquara violates number of infected after 0 days of hammer (level 0.8): Infected 0.00029 (target 0.00011271540746493719)\nAraçatuba violates number of infected after 0 days of hammer (level 0.8): Infected 0.00031 (target 0.00012887724611637333)\nBaixada Santista violates number of infected after 0 days of hammer (level 0.8): Infected 0.00033 (target 0.0001945292387509253)\nBarretos violates number of infected after 0 days of hammer (level 0.8): Infected 0.00057 (target 0.0001305605871697758)\nBauru violates number of infected after 0 days of hammer (level 0.8): Infected 0.00032 (target 9.438740789108707e-05)\nCampinas violates number of infected after 0 days of hammer (level 0.8): Infected 0.00041 (target 0.00015620023563580566)\nFranca violates number of infected after 0 days of hammer (level 0.8): Infected 0.00031 (target 9.078591369683602e-05)\nMarília violates number of infected after 0 days of hammer (level 0.8): Infected 0.00019 (target 0.00011354727081024088)\nMun. São Paulo violates number of infected after 0 days of hammer (level 0.8): Infected 0.00038 (target 0.0002267756616448997)\nPiracicaba violates number of infected after 0 days of hammer (level 0.8): Infected 0.00035 (target 0.00013319855806703037)\nPresidente Prudente violates number of infected after 0 days of hammer (level 0.8): Infected 0.00027 (target 7.548254592826948e-05)\nRegistro violates number of infected after 0 days of hammer (level 0.8): Infected 0.0004 (target 0.00010493122968639019)\nRibeirão Preto violates number of infected after 0 days of hammer (level 0.8): Infected 0.00039 (target 0.000175270552882175)\nSorocaba violates number of infected after 0 days of hammer (level 0.8): Infected 0.00024 (target 8.425983848953594e-05)\nSub região leste - RMSP violates number of infected after 0 days of hammer (level 0.8): Infected 0.00022 (target 0.00011941946032968845)\nSub região norte - RMSP violates number of infected after 0 days of hammer (level 0.8): Infected 0.00024 (target 0.00012854515174865155)\nSub região oeste - RMSP violates number of infected after 0 days of hammer (level 0.8): Infected 0.00027 (target 0.0001297307900112579)\nSub região sudeste - RMSP is fine after 0 days of hammer (infected = 0.00023, target = 0.00023319327731092436)\nSub região sudoeste - RMSP violates number of infected after 0 days of hammer (level 0.8): Infected 0.00032 (target 6.117264925133882e-05)\nSão José do Rio Preto violates number of infected after 0 days of hammer (level 0.8): Infected 0.00067 (target 0.00019021491689171253)\nSão João da Boa Vista violates number of infected after 0 days of hammer (level 0.8): Infected 0.00024 (target 0.00011748675040378546)\nTaubaté violates number of infected after 0 days of hammer (level 0.8): Infected 0.00033 (target 0.00014516018250108748)\nIncreasing hammer duration of Araraquara to 14 days\nIncreasing hammer duration of Araçatuba to 14 days\nIncreasing hammer duration of Baixada Santista to 14 days\nIncreasing hammer duration of Barretos to 14 days\nIncreasing hammer duration of Bauru to 14 days\nIncreasing hammer duration of Campinas to 14 days\nIncreasing hammer duration of Franca to 14 days\nIncreasing hammer duration of Marília to 14 days\nIncreasing hammer duration of Mun. São Paulo to 14 days\nIncreasing hammer duration of Piracicaba to 14 days\nIncreasing hammer duration of Presidente Prudente to 14 days\nIncreasing hammer duration of Registro to 14 days\nIncreasing hammer duration of Ribeirão Preto to 14 days\nIncreasing hammer duration of Sorocaba to 14 days\nIncreasing hammer duration of Sub região leste - RMSP to 14 days\nIncreasing hammer duration of Sub região norte - RMSP to 14 days\nIncreasing hammer duration of Sub região oeste - RMSP to 14 days\nIncreasing hammer duration of Sub região sudoeste - RMSP to 14 days\nIncreasing hammer duration of São José do Rio Preto to 14 days\nIncreasing hammer duration of São João da Boa Vista to 14 days\nIncreasing hammer duration of Taubaté to 14 days\n\nTime to simulate: 0.31\nAraraquara violates number of infected after 14 days of hammer (level 0.8): Infected 0.00017 (target 0.00011271540746493719)\nAraçatuba violates number of infected after 14 days of hammer (level 0.8): Infected 0.00017 (target 0.00012887724611637333)\nBaixada Santista is fine after 14 days of hammer (infected = 0.00015, target = 0.0001945292387509253)\nBarretos violates number of infected after 14 days of hammer (level 0.8): Infected 0.0003 (target 0.0001305605871697758)\nBauru violates number of infected after 14 days of hammer (level 0.8): Infected 0.00018 (target 9.438740789108707e-05)\nCampinas violates number of infected after 14 days of hammer (level 0.8): Infected 0.00021 (target 0.00015620023563580566)\nFranca violates number of infected after 14 days of hammer (level 0.8): Infected 0.00019 (target 9.078591369683602e-05)\nMarília violates number of infected after 14 days of hammer (level 0.8): Infected 0.00012 (target 0.00011354727081024088)\nMun. São Paulo is fine after 14 days of hammer (infected = 0.00021, target = 0.0002267756616448997)\nPiracicaba violates number of infected after 14 days of hammer (level 0.8): Infected 0.00018 (target 0.00013319855806703037)\nPresidente Prudente violates number of infected after 14 days of hammer (level 0.8): Infected 0.00016 (target 7.548254592826948e-05)\nRegistro violates number of infected after 14 days of hammer (level 0.8): Infected 0.0002 (target 0.00010493122968639019)\nRibeirão Preto violates number of infected after 14 days of hammer (level 0.8): Infected 0.00021 (target 0.000175270552882175)\nSorocaba violates number of infected after 14 days of hammer (level 0.8): Infected 0.00014 (target 8.425983848953594e-05)\nSub região leste - RMSP violates number of infected after 14 days of hammer (level 0.8): Infected 0.00013 (target 0.00011941946032968845)\nSub região norte - RMSP violates number of infected after 14 days of hammer (level 0.8): Infected 0.00013 (target 0.00012854515174865155)\nSub região oeste - RMSP violates number of infected after 14 days of hammer (level 0.8): Infected 0.00014 (target 0.0001297307900112579)\nSub região sudeste - RMSP is fine after 0 days of hammer (infected = 0.00023, target = 0.00023319327731092436)\nSub região sudoeste - RMSP violates number of infected after 14 days of hammer (level 0.8): Infected 0.00018 (target 6.117264925133882e-05)\nSão José do Rio Preto violates number of infected after 14 days of hammer (level 0.8): Infected 0.00031 (target 0.00019021491689171253)\nSão João da Boa Vista violates number of infected after 14 days of hammer (level 0.8): Infected 0.00015 (target 0.00011748675040378546)\nTaubaté violates number of infected after 14 days of hammer (level 0.8): Infected 0.00019 (target 0.00014516018250108748)\nIncreasing hammer duration of Araraquara to 28 days\nIncreasing hammer duration of Araçatuba to 28 days\nIncreasing hammer duration of Barretos to 28 days\nIncreasing hammer duration of Bauru to 28 days\nIncreasing hammer duration of Campinas to 28 days\nIncreasing hammer duration of Franca to 28 days\nIncreasing hammer duration of Marília to 28 days\nIncreasing hammer duration of Piracicaba to 28 days\nIncreasing hammer duration of Presidente Prudente to 28 days\nIncreasing hammer duration of Registro to 28 days\nIncreasing hammer duration of Ribeirão Preto to 28 days\nIncreasing hammer duration of Sorocaba to 28 days\nIncreasing hammer duration of Sub região leste - RMSP to 28 days\nIncreasing hammer duration of Sub região norte - RMSP to 28 days\nIncreasing hammer duration of Sub região oeste - RMSP to 28 days\nIncreasing hammer duration of Sub região sudoeste - RMSP to 28 days\nIncreasing hammer duration of São José do Rio Preto to 28 days\nIncreasing hammer duration of São João da Boa Vista to 28 days\nIncreasing hammer duration of Taubaté to 28 days\n\nTime to simulate: 0.31\nAraraquara is fine after 28 days of hammer (infected = 9.8e-05, target = 0.00011271540746493719)\nAraçatuba is fine after 28 days of hammer (infected = 8.8e-05, target = 0.00012887724611637333)\nBaixada Santista is fine after 14 days of hammer (infected = 0.00015, target = 0.0001945292387509253)\nBarretos violates number of infected after 28 days of hammer (level 0.8): Infected 0.00014 (target 0.0001305605871697758)\nBauru violates number of infected after 28 days of hammer (level 0.8): Infected 9.4e-05 (target 9.438740789108707e-05)\nCampinas is fine after 28 days of hammer (infected = 0.0001, target = 0.00015620023563580566)\nFranca violates number of infected after 28 days of hammer (level 0.8): Infected 0.00011 (target 9.078591369683602e-05)\nMarília is fine after 28 days of hammer (infected = 7.2e-05, target = 0.00011354727081024088)\nMun. São Paulo is fine after 14 days of hammer (infected = 0.00021, target = 0.0002267756616448997)\nPiracicaba is fine after 28 days of hammer (infected = 8.7e-05, target = 0.00013319855806703037)\nPresidente Prudente violates number of infected after 28 days of hammer (level 0.8): Infected 9.2e-05 (target 7.548254592826948e-05)\nRegistro is fine after 28 days of hammer (infected = 9.6e-05, target = 0.00010493122968639019)\nRibeirão Preto is fine after 28 days of hammer (infected = 9.9e-05, target = 0.000175270552882175)\nSorocaba is fine after 28 days of hammer (infected = 7.7e-05, target = 8.425983848953594e-05)\nSub região leste - RMSP is fine after 28 days of hammer (infected = 6.6e-05, target = 0.00011941946032968845)\nSub região norte - RMSP is fine after 28 days of hammer (infected = 7e-05, target = 0.00012854515174865155)\nSub região oeste - RMSP is fine after 28 days of hammer (infected = 6.7e-05, target = 0.0001297307900112579)\nSub região sudeste - RMSP is fine after 0 days of hammer (infected = 0.00023, target = 0.00023319327731092436)\nSub região sudoeste - RMSP violates number of infected after 28 days of hammer (level 0.8): Infected 9.4e-05 (target 6.117264925133882e-05)\nSão José do Rio Preto is fine after 28 days of hammer (infected = 0.00013, target = 0.00019021491689171253)\nSão João da Boa Vista is fine after 28 days of hammer (infected = 8.3e-05, target = 0.00011748675040378546)\nTaubaté is fine after 28 days of hammer (infected = 0.0001, target = 0.00014516018250108748)\nIncreasing hammer duration of Barretos to 42 days\nIncreasing hammer duration of Bauru to 42 days\nIncreasing hammer duration of Franca to 42 days\nIncreasing hammer duration of Presidente Prudente to 42 days\nIncreasing hammer duration of Sub região sudoeste - RMSP to 42 days\n\nTime to simulate: 0.31\nAraraquara is fine after 28 days of hammer (infected = 9.8e-05, target = 0.00011271540746493719)\nAraçatuba is fine after 28 days of hammer (infected = 8.8e-05, target = 0.00012887724611637333)\nBaixada Santista is fine after 14 days of hammer (infected = 0.00015, target = 0.0001945292387509253)\nBarretos is fine after 42 days of hammer (infected = 6.6e-05, target = 0.0001305605871697758)\nBauru is fine after 42 days of hammer (infected = 5e-05, target = 9.438740789108707e-05)\nCampinas is fine after 28 days of hammer (infected = 0.0001, target = 0.00015620023563580566)\nFranca is fine after 42 days of hammer (infected = 6.2e-05, target = 9.078591369683602e-05)\nMarília is fine after 28 days of hammer (infected = 7.2e-05, target = 0.00011354727081024088)\nMun. São Paulo is fine after 14 days of hammer (infected = 0.00021, target = 0.0002267756616448997)\nPiracicaba is fine after 28 days of hammer (infected = 8.7e-05, target = 0.00013319855806703037)\nPresidente Prudente is fine after 42 days of hammer (infected = 5.2e-05, target = 7.548254592826948e-05)\nRegistro is fine after 28 days of hammer (infected = 9.6e-05, target = 0.00010493122968639019)\nRibeirão Preto is fine after 28 days of hammer (infected = 9.9e-05, target = 0.000175270552882175)\nSorocaba is fine after 28 days of hammer (infected = 7.7e-05, target = 8.425983848953594e-05)\nSub região leste - RMSP is fine after 28 days of hammer (infected = 6.6e-05, target = 0.00011941946032968845)\nSub região norte - RMSP is fine after 28 days of hammer (infected = 7e-05, target = 0.00012854515174865155)\nSub região oeste - RMSP is fine after 28 days of hammer (infected = 6.7e-05, target = 0.0001297307900112579)\nSub região sudeste - RMSP is fine after 0 days of hammer (infected = 0.00023, target = 0.00023319327731092436)\nSub região sudoeste - RMSP is fine after 42 days of hammer (infected = 4.8e-05, target = 6.117264925133882e-05)\nSão José do Rio Preto is fine after 28 days of hammer (infected = 0.00013, target = 0.00019021491689171253)\nSão João da Boa Vista is fine after 28 days of hammer (infected = 8.3e-05, target = 0.00011748675040378546)\nTaubaté is fine after 28 days of hammer (infected = 0.0001, target = 0.00014516018250108748)\n\nNumber of iterations: 4\nTotal time: 1.3133839209913276 s\nHammer duration\nAraraquara: 28 days\nAraçatuba: 28 days\nBaixada Santista: 14 days\nBarretos: 42 days\nBauru: 42 days\nCampinas: 28 days\nFranca: 42 days\nMarília: 28 days\nMun. São Paulo: 14 days\nPiracicaba: 28 days\nPresidente Prudente: 42 days\nRegistro: 28 days\nRibeirão Preto: 28 days\nSorocaba: 28 days\nSub região leste - RMSP: 28 days\nSub região norte - RMSP: 28 days\nSub região oeste - RMSP: 28 days\nSub região sudeste - RMSP: 0 days\nSub região sudoeste - RMSP: 42 days\nSão José do Rio Preto: 28 days\nSão João da Boa Vista: 28 days\nTaubaté: 28 days\nChecking if initial hammer is long enough... Ok!\n"
    }
   ],
   "source": [
    "verbosity = 2\n",
    "basic_prm[\"alternate\"] = 0.0\n",
    "run_robot.find_feasible_hammer(basic_prm, cities_data, M, target, hammer_data, None, incr_all=True, save_file=False, verbosity=verbosity)"
   ]
  },
  {
   "cell_type": "code",
   "execution_count": 37,
   "metadata": {
    "tags": []
   },
   "outputs": [
    {
     "output_type": "stream",
     "name": "stdout",
     "text": "Solving Robot-dance...\nSolving Robot-dance... Ok!\nTotal tests used 50000045.57006115\n\n-----\nNumber of rt changes in each city\nAraraquara: 14\nAraçatuba: 11\nBaixada Santista: 7\nBarretos: 11\nBauru: 12\nCampinas: 11\nFranca: 13\nMarília: 12\nMun. São Paulo: 9\nPiracicaba: 12\nPresidente Prudente: 13\nRegistro: 12\nRibeirão Preto: 10\nSorocaba: 14\nSub região leste - RMSP: 14\nSub região norte - RMSP: 12\nSub região oeste - RMSP: 12\nSub região sudeste - RMSP: 8\nSub região sudoeste - RMSP: 13\nSão José do Rio Preto: 6\nSão João da Boa Vista: 14\nTaubaté: 11\n-----\n\n-----\nAverage fraction of infected\nAraraquara: 0.00279686375410016\nAraçatuba: 0.0033766984979450325\nBaixada Santista: 0.004745180290777904\nBarretos: 0.004102490482307492\nBauru: 0.0021254156692156532\nCampinas: 0.004653149177455362\nFranca: 0.002473618286912022\nMarília: 0.002287788253554283\nMun. São Paulo: 0.005884111150152933\nPiracicaba: 0.003931195603130691\nPresidente Prudente: 0.001969401320211563\nRegistro: 0.0032637537443518574\nRibeirão Preto: 0.004962325205644818\nSorocaba: 0.0020437773097327526\nSub região leste - RMSP: 0.003433574485692849\nSub região norte - RMSP: 0.002550203708883664\nSub região oeste - RMSP: 0.0032903308707060504\nSub região sudeste - RMSP: 0.0052213686775711855\nSub região sudoeste - RMSP: 0.0019902961304679116\nSão José do Rio Preto: 0.005110884495766029\nSão João da Boa Vista: 0.0026585488988962727\nTaubaté: 0.0038062198047208572\n-----\n\n-----\nNumber of days open (rt = 2.5)\nAraraquara: 0 days total\nOpening 1: 0 days\nAverage: 0 days\n\nAraçatuba: 0 days total\nOpening 1: 0 days\nAverage: 0 days\n\nBaixada Santista: 0 days total\nOpening 1: 0 days\nAverage: 0 days\n\nBarretos: 0 days total\nOpening 1: 0 days\nAverage: 0 days\n\nBauru: 0 days total\nOpening 1: 0 days\nAverage: 0 days\n\nCampinas: 0 days total\nOpening 1: 0 days\nAverage: 0 days\n\nFranca: 0 days total\nOpening 1: 0 days\nAverage: 0 days\n\nMarília: 0 days total\nOpening 1: 0 days\nAverage: 0 days\n\nMun. São Paulo: 0 days total\nOpening 1: 0 days\nAverage: 0 days\n\nPiracicaba: 0 days total\nOpening 1: 0 days\nAverage: 0 days\n\nPresidente Prudente: 0 days total\nOpening 1: 0 days\nAverage: 0 days\n\nRegistro: 0 days total\nOpening 1: 0 days\nAverage: 0 days\n\nRibeirão Preto: 0 days total\nOpening 1: 0 days\nAverage: 0 days\n\nSorocaba: 0 days total\nOpening 1: 0 days\nAverage: 0 days\n\nSub região leste - RMSP: 0 days total\nOpening 1: 0 days\nAverage: 0 days\n\nSub região norte - RMSP: 0 days total\nOpening 1: 0 days\nAverage: 0 days\n\nSub região oeste - RMSP: 0 days total\nOpening 1: 0 days\nAverage: 0 days\n\nSub região sudeste - RMSP: 0 days total\nOpening 1: 0 days\nAverage: 0 days\n\nSub região sudoeste - RMSP: 0 days total\nOpening 1: 0 days\nAverage: 0 days\n\nSão José do Rio Preto: 0 days total\nOpening 1: 0 days\nAverage: 0 days\n\nSão João da Boa Vista: 0 days total\nOpening 1: 0 days\nAverage: 0 days\n\nTaubaté: 0 days total\nOpening 1: 0 days\nAverage: 0 days\n\n-----\n\n-----\nNumber of days in lockdown (rt <= 1.1)\nAraraquara: 84 days total\nLockdown 1: 28 days\nLockdown 2: 14 days\nLockdown 3: 14 days\nLockdown 4: 14 days\nLockdown 5: 14 days\nAverage: 17 days\n\nAraçatuba: 42 days total\nLockdown 1: 28 days\nLockdown 2: 14 days\nAverage: 21 days\n\nBaixada Santista: 14 days total\nLockdown 1: 14 days\nAverage: 14 days\n\nBarretos: 42 days total\nLockdown 1: 42 days\nAverage: 42 days\n\nBauru: 98 days total\nLockdown 1: 42 days\nLockdown 2: 14 days\nLockdown 3: 14 days\nLockdown 4: 14 days\nLockdown 5: 14 days\nAverage: 20 days\n\nCampinas: 28 days total\nLockdown 1: 28 days\nAverage: 28 days\n\nFranca: 84 days total\nLockdown 1: 42 days\nLockdown 2: 14 days\nLockdown 3: 14 days\nLockdown 4: 14 days\nAverage: 21 days\n\nMarília: 98 days total\nLockdown 1: 28 days\nLockdown 2: 14 days\nLockdown 3: 14 days\nLockdown 4: 14 days\nLockdown 5: 14 days\nLockdown 6: 14 days\nAverage: 16 days\n\nMun. São Paulo: 14 days total\nLockdown 1: 14 days\nAverage: 14 days\n\nPiracicaba: 28 days total\nLockdown 1: 28 days\nAverage: 28 days\n\nPresidente Prudente: 98 days total\nLockdown 1: 42 days\nLockdown 2: 14 days\nLockdown 3: 14 days\nLockdown 4: 14 days\nLockdown 5: 14 days\nAverage: 20 days\n\nRegistro: 28 days total\nLockdown 1: 28 days\nAverage: 28 days\n\nRibeirão Preto: 28 days total\nLockdown 1: 28 days\nAverage: 28 days\n\nSorocaba: 98 days total\nLockdown 1: 28 days\nLockdown 2: 14 days\nLockdown 3: 14 days\nLockdown 4: 14 days\nLockdown 5: 14 days\nLockdown 6: 14 days\nAverage: 16 days\n\nSub região leste - RMSP: 28 days total\nLockdown 1: 28 days\nAverage: 28 days\n\nSub região norte - RMSP: 70 days total\nLockdown 1: 28 days\nLockdown 2: 14 days\nLockdown 3: 14 days\nLockdown 4: 14 days\nAverage: 18 days\n\nSub região oeste - RMSP: 70 days total\nLockdown 1: 28 days\nLockdown 2: 14 days\nLockdown 3: 14 days\nLockdown 4: 14 days\nAverage: 18 days\n\nSub região sudeste - RMSP: 28 days total\nLockdown 1: 14 days\nLockdown 2: 14 days\nAverage: 14 days\n\nSub região sudoeste - RMSP: 42 days total\nLockdown 1: 42 days\nAverage: 42 days\n\nSão José do Rio Preto: 28 days total\nLockdown 1: 28 days\nAverage: 28 days\n\nSão João da Boa Vista: 98 days total\nLockdown 1: 28 days\nLockdown 2: 14 days\nLockdown 3: 14 days\nLockdown 4: 14 days\nLockdown 5: 14 days\nLockdown 6: 14 days\nAverage: 16 days\n\nTaubaté: 42 days total\nLockdown 1: 28 days\nLockdown 2: 14 days\nAverage: 21 days\n\n-----\nSaving output files...\nSaving output files... Ok!\nPloting result...\nPloting result... OK!\n"
    }
   ],
   "source": [
    "%%time\n",
    "\n",
    "base_output_name = \"results/tests_connected_{:d}_daily_unlimited\"\n",
    "budgets = [0, 1500000, 5000000, 20000000, 50000000]\n",
    "for budget in budgets:\n",
    "    output_name = base_output_name.format(budget)\n",
    "    run_robot.prepare_optimization(basic_prm, cities_data, M, target, hammer_data, force_dif, verbosity=verbosity, test_budget=budget)\n",
    "    run_robot.optimize_and_show_results(basic_prm, output_name + \".png\", output_name + \".csv\", \n",
    "                                        cities_data, start_date=\"2020-08-18\", verbosity=verbosity)"
   ]
  },
  {
   "cell_type": "code",
   "execution_count": null,
   "metadata": {},
   "outputs": [],
   "source": []
  }
 ],
 "metadata": {
  "kernelspec": {
   "display_name": "Python 3",
   "language": "python",
   "name": "python3"
  },
  "language_info": {
   "codemirror_mode": {
    "name": "ipython",
    "version": 3
   },
   "file_extension": ".py",
   "mimetype": "text/x-python",
   "name": "python",
   "nbconvert_exporter": "python",
   "pygments_lexer": "ipython3",
   "version": "3.7.7-final"
  }
 },
 "nbformat": 4,
 "nbformat_minor": 4
}