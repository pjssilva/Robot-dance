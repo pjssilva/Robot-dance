{
 "cells": [
  {
   "cell_type": "markdown",
   "metadata": {},
   "source": [
    "# New case studies for Robot Dance paper"
   ]
  },
  {
   "cell_type": "code",
   "execution_count": null,
   "metadata": {
    "tags": []
   },
   "outputs": [],
   "source": [
    "import os\n",
    "import pandas as pd\n",
    "import numpy as np\n",
    "import datetime\n",
    "\n",
    "import run_robot\n",
    "import prepare_data\n",
    "from importlib import reload\n",
    "reload(prepare_data)\n",
    "reload(run_robot)"
   ]
  },
  {
   "cell_type": "code",
   "execution_count": null,
   "metadata": {
    "tags": []
   },
   "outputs": [],
   "source": [
    "# Define the basic data for the case studies\n",
    "\n",
    "# Compute initial values for first run and read the cities and other initial data\n",
    "# basic_prm = prepare_data.save_basic_parameters(min_level=0.8, rep=2.0, ndays=(180 + 28), tinf=2.9, need_icu=0.00379872899804252, time_icu=11)\n",
    "basic_prm = prepare_data.save_basic_parameters(min_level=0.8, rep=2.0, ndays=(180 + 28), tinf=2.9, need_icu=0.00693521103887298, time_icu=7)\n",
    "\n",
    "# Compute initial values and read mobility matrix\n",
    "\n",
    "# For cities\n",
    "# cities_data = prepare_data.compute_initial_condition_evolve_and_save(basic_prm, \"SP\", [\"Araçatuba\", \"São José Do Rio Preto\"], 500000, 1)\n",
    "# cities_data = prepare_data.compute_initial_condition_evolve_and_save(basic_prm, \"SP\", [\"São José Do Rio Preto\"], 25000, 6, 1)\n",
    "# M = prepare_data.convert_mobility_matrix_and_save(cities_data, max_neighbors=3, drs=False)\n",
    "\n",
    "# For DRS\n",
    "subnot_factor = 11.6\n",
    "cities_data = prepare_data.compute_initial_condition_evolve_and_save(basic_prm, \"SP\", [], 1, subnot_factor, 1, \"data/covid_with_drs.csv\")\n",
    "M = prepare_data.convert_mobility_matrix_and_save(cities_data, max_neighbors=0, drs=True)"
   ]
  },
  {
   "cell_type": "code",
   "execution_count": null,
   "metadata": {},
   "outputs": [],
   "source": [
    "cities_data = pd.read_csv(\"data/cities_data.csv\", index_col=0)\n",
    "\n",
    "# Create a target matrix (max infected level)\n",
    "ncities, ndays = len(cities_data.index), int(basic_prm[\"ndays\"])\n",
    "target = np.ones((ncities, ndays))\n",
    "target = prepare_data.save_target(cities_data, target)\n",
    "hammer_data = prepare_data.save_hammer_data(cities_data, 0, 0.8)\n",
    "\n",
    "# Use a forcedif that releases the cities in the end\n",
    "force_dif = np.ones((ncities, ndays))\n",
    "cities_data"
   ]
  },
  {
   "cell_type": "markdown",
   "metadata": {},
   "source": [
    "## Case 1: 14 day window, official data"
   ]
  },
  {
   "cell_type": "code",
   "execution_count": null,
   "metadata": {
    "tags": []
   },
   "outputs": [],
   "source": [
    "verbosity = 2\n",
    "basic_prm[\"alternate\"] = 0.0\n",
    "budget = 50000000\n",
    "run_robot.find_feasible_hammer(basic_prm, cities_data, M, target, hammer_data, None, incr_all=True, verbosity=verbosity)\n",
    "run_robot.prepare_optimization(basic_prm, cities_data, M, target, hammer_data, force_dif, verbosity=verbosity, test_budget=budget)"
   ]
  },
  {
   "cell_type": "code",
   "execution_count": null,
   "metadata": {
    "tags": []
   },
   "outputs": [],
   "source": [
    "%%time\n",
    "run_robot.optimize_and_show_results(basic_prm, f\"results/tests_new_{budget:d}_daily_unlimited_no_mobility_sp.png\", f\"results/tests_new_{budget:d}_daily_unlimited_no_mobility_sp.csv\", \n",
    "                                    cities_data, verbosity=verbosity)"
   ]
  },
  {
   "cell_type": "code",
   "execution_count": null,
   "metadata": {},
   "outputs": [],
   "source": []
  }
 ],
 "metadata": {
  "kernelspec": {
   "display_name": "Python 3",
   "language": "python",
   "name": "python3"
  },
  "language_info": {
   "codemirror_mode": {
    "name": "ipython",
    "version": 3
   },
   "file_extension": ".py",
   "mimetype": "text/x-python",
   "name": "python",
   "nbconvert_exporter": "python",
   "pygments_lexer": "ipython3",
   "version": "3.7.7-final"
  }
 },
 "nbformat": 4,
 "nbformat_minor": 4
}