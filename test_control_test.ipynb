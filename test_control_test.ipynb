{
 "cells": [
  {
   "cell_type": "markdown",
   "metadata": {},
   "source": [
    "# Case studies for Robot Test paper (SP case)"
   ]
  },
  {
   "cell_type": "code",
   "execution_count": null,
   "metadata": {
    "tags": []
   },
   "outputs": [],
   "source": [
    "import os\n",
    "import pandas as pd\n",
    "import numpy as np\n",
    "import datetime\n",
    "import itertools\n",
    "import matplotlib.pylab as plt\n",
    "from matplotlib import rc\n",
    "rc(\"text\", usetex=True)\n",
    "rc(\"font\", family=\"serif\")\n",
    "\n",
    "import run_robot\n",
    "import prepare_data\n",
    "from importlib import reload\n",
    "reload(prepare_data)\n",
    "reload(run_robot)"
   ]
  },
  {
   "cell_type": "code",
   "execution_count": null,
   "metadata": {
    "tags": []
   },
   "outputs": [],
   "source": [
    "basic_prm = prepare_data.save_basic_parameters(min_level=0.8, rep=2.5, ndays=30)\n",
    "subnot_factor = 11.6\n",
    "cities_data = prepare_data.compute_initial_condition_evolve_and_save(basic_prm, \"SP\", [\"SP\"], 10000000, subnot_factor, 1, \"data/report_covid_with_drs_07_29.csv\")\n",
    "cities_data"
   ]
  },
  {
   "cell_type": "code",
   "execution_count": null,
   "metadata": {
    "tags": []
   },
   "outputs": [],
   "source": [
    "# Define the basic data for the case studies\n",
    "\n",
    "# Basic reproduction number\n",
    "basic_rep = 1.8\n",
    "\n",
    "# Simulation horizon\n",
    "# A little more than a year when thevaccine should be here\n",
    "ndays = 14*2*14\n",
    "\n",
    "# Mean time in ICU\n",
    "time_icu = 7\n",
    "\n",
    "# Lockdown level\n",
    "lock_level = 0.8\n",
    "\n",
    "# Define basic paramters\n",
    "basic_prm = prepare_data.save_basic_parameters(min_level=lock_level, rep=basic_rep, time_icu=time_icu, ndays=ndays)\n",
    "\n",
    "# Compute initial values\n",
    "\n",
    "# For cities\n",
    "# cities_data = prepare_data.compute_initial_condition_evolve_and_save(basic_prm, \"SP\", [\"Araçatuba\", \"São José Do Rio Preto\"], 500000, 1)\n",
    "# cities_data = prepare_data.compute_initial_condition_evolve_and_save(basic_prm, \"SP\", [\"São José Do Rio Preto\"], 25000, 6, 1)\n",
    "\n",
    "# For DRS\n",
    "cities_data = prepare_data.compute_initial_condition_evolve_and_save(basic_prm, \"SP\", [], 000000, subnot_factor, 1, \"data/report_covid_with_drs_07_01.csv\")\n",
    "\n",
    "# Sub-groups for figures\n",
    "sp = [\"SP\"]\n",
    "sp_so = sp + [\"SW\"]\n",
    "masp_names = sp + [\"E\", \"N\", \"W\", \"SE\", \"SW\"]"
   ]
  },
  {
   "cell_type": "code",
   "execution_count": null,
   "metadata": {},
   "outputs": [],
   "source": [
    "# Create a target matrix (max infected level)\n",
    "ncities, ndays = len(cities_data.index), int(basic_prm[\"ndays\"])\n",
    "target = np.ones((ncities, ndays))\n",
    "target = prepare_data.save_target(cities_data, target)\n",
    "\n",
    "# Use a forcedif that releases the cities in the end\n",
    "force_dif = np.ones((ncities, ndays))\n",
    "cities_data"
   ]
  },
  {
   "cell_type": "markdown",
   "metadata": {},
   "source": [
    "## Add information on the time series that estimate the need of ICUs\n",
    "\n",
    "We are using the time series adjusted considering that the mean ICU stay is 7 days (which lead to larger ICU capacity)."
   ]
  },
  {
   "cell_type": "code",
   "execution_count": null,
   "metadata": {},
   "outputs": [],
   "source": [
    "if basic_prm[\"time_icu\"] == 11:\n",
    "    # Time series adjusted considering the mean ICU time is 11 days\n",
    "    ts_sp = np.array([0.0074335, 0.01523406, -0.00186355, 0.0, 1.67356018, -0.68192908, np.sqrt(0.00023883),\n",
    "        0.007682840158843, 0.007536060983504])\n",
    "    ts_notsp = np.array([0.00520255, 0.01532709, 0.00044498, 0.0, 1.75553282, -0.76360711, np.sqrt(3.567E-05),\n",
    "        0.005426447471187, 0.005282217308748])\n",
    "elif basic_prm[\"time_icu\"] == 7:\n",
    "    # Time series adjusted considering the mean ICU time is 7 days\n",
    "    ts_sp = np.array([0.01099859, 0.02236023, 0.00370254, 0.0, 1.79119571, -0.80552926, np.sqrt(0.00034005),\n",
    "        0.011644768910252, 0.011221496171591])\n",
    "    ts_notsp = np.array([0.0076481, 0.0218084, 0.00367839, 0.0, 1.81361379, -0.82550856, np.sqrt(8.028E-05),\n",
    "        0.007907216664912, 0.007721801045322])\n",
    "else:\n",
    "    raise NotImplementedError\n",
    "\n",
    "# Index of the cities that form the Metropolitan area of São Paulo\n",
    "MASP = np.array([7, 10, 15, 16, 17, 22]) - 1\n",
    "\n",
    "ts_drs = np.ones((len(cities_data), len(ts_notsp)))\n",
    "ts_drs *= ts_notsp\n",
    "ts_drs[MASP, :] = ts_sp\n",
    "ts_drs = pd.DataFrame(data=ts_drs, index=cities_data.index, columns=[\n",
    "    \"rho_min\", \"rho_max\", \"intercept\", \"trend\", \"phi_1\", \"phi_2\", \"sigma_omega\", \"state0\", \"state_less_1\"\n",
    "])\n",
    "ts_drs[\"confidence\"] = 0.9\n",
    "ts_drs[\"time_icu\"] = time_icu\n",
    "cities_data = pd.concat([cities_data, ts_drs], axis=1)\n",
    "cities_data\n"
   ]
  },
  {
   "cell_type": "code",
   "execution_count": null,
   "metadata": {},
   "outputs": [],
   "source": [
    "pd.set_option(\"display.width\", 120)\n",
    "\n",
    "# Simple function to run a test and save results\n",
    "def run_a_test(basic_prm, result_file, figure_file, cities_data, M, target, force_dif, pools=None, budget=0, tests_off=np.zeros(0, int), tau=3, test_efficacy=0.8, daily_tests=0, proportional_tests=False, verbosity=1):\n",
    "    run_robot.prepare_optimization(basic_prm, cities_data, M, target, hammer_data, force_dif, pools, \n",
    "        verbosity=verbosity, test_budget=budget, tests_off=tests_off, tau=tau, test_efficacy=test_efficacy, \n",
    "        daily_tests=daily_tests, proportional_tests=proportional_tests)\n",
    "    run_robot.optimize_and_show_results(basic_prm, figure_file, result_file, cities_data, target, verbosity=verbosity)\n",
    "    "
   ]
  },
  {
   "cell_type": "code",
   "execution_count": null,
   "metadata": {
    "tags": []
   },
   "outputs": [],
   "source": [
    "# Define mobility matrix.\n",
    "M = prepare_data.convert_mobility_matrix_and_save(cities_data, max_neighbors=5, drs=\"data/report_drs_mobility.csv\")\n",
    "hammer_data = prepare_data.save_hammer_data(cities_data, 0, basic_prm[\"min_level\"])\n",
    "run_robot.find_feasible_hammer(basic_prm, cities_data, M, target, hammer_data, out_file=None, \n",
    "    incr_all=True, verbosity=1)\n",
    "M.loc[\"SP\", \"SW\"], M.loc[\"SW\", \"SP\"]\n"
   ]
  },
  {
   "cell_type": "code",
   "execution_count": null,
   "metadata": {},
   "outputs": [],
   "source": [
    "all_tau = [3]\n",
    "all_test_efficacy = [0.8]\n",
    "all_daily_tests = [0, 30000, 50000, 100000, 200000]\n",
    "all_budgets = [2000000000]"
   ]
  },
  {
   "cell_type": "markdown",
   "metadata": {},
   "source": [
    "## Tests variations: pure_robot, pure_robot + tests, truncated"
   ]
  },
  {
   "source": [
    "# Case 1: pure_robot\n",
    "print(\"********** Pure robot\")\n",
    "basic_prm[\"alternate\"] = 0.0\n",
    "tests_off = np.zeros(0, int)\n",
    "result_file =  f\"results/pure_robot.csv\"\n",
    "figure_file = f\"results/pure_robot.png\"\n",
    "run_a_test(basic_prm, result_file, figure_file, cities_data, M, target, force_dif, None, 0, tests_off, 3, 0.8, 0);\n",
    "\n",
    "for tau, test_efficacy, daily_tests, budget in itertools.product(all_tau, all_test_efficacy, all_daily_tests, all_budgets):\n",
    "\n",
    "    print(\"********** Pure robot + opt tests tau =\", tau, \"test_effic =\", test_efficacy, \"daily tests =\", daily_tests, \"budget =\", budget)\n",
    "    \n",
    "    # Case 2: pure_robot + optimal tests\n",
    "    basic_prm[\"alternate\"] = 0.0\n",
    "    tests_off = np.zeros(0, int)\n",
    "    result_file =  f\"results/opt_tests_budget_{budget:d}_daily_{daily_tests:d}_tau_{tau:d}_test_ef_{test_efficacy:f}.csv\"\n",
    "    figure_file = f\"results/opt_tests_budget_{budget:d}_daily_{daily_tests:d}_tau_{tau:d}_test_ef_{test_efficacy:f}.png\"\n",
    "    run_a_test(basic_prm, result_file, figure_file, cities_data, M, target, force_dif, None, budget, tests_off, \n",
    "        tau, test_efficacy, daily_tests);\n",
    "    \n",
    "    plt.close(\"all\")\n",
    "\n",
    "for tau, test_efficacy, daily_tests, budget in itertools.product(all_tau, all_test_efficacy, all_daily_tests, all_budgets):\n",
    "\n",
    "    print(\"********** Truncated tau =\", tau, \"test_effic =\", test_efficacy, \"daily tests =\", daily_tests, \"budget =\", budget)\n",
    "    \n",
    "    # Case 2: pure_robot + optimal tests\n",
    "    basic_prm[\"alternate\"] = 0.0\n",
    "    tests_off = np.zeros(0, int)\n",
    "    result_file =  f\"results/trunc_tests_budget_{budget:d}_daily_{daily_tests:d}_tau_{tau:d}_test_ef_{test_efficacy:f}.csv\"\n",
    "    figure_file = f\"results/trunc_tests_budget_{budget:d}_daily_{daily_tests:d}_tau_{tau:d}_test_ef_{test_efficacy:f}.png\"\n",
    "    run_a_test(basic_prm, result_file, figure_file, cities_data, M, target, force_dif, None, budget, tests_off, \n",
    "        tau, test_efficacy, daily_tests);\n",
    "\n",
    "    plt.close(\"all\")\n"
   ],
   "cell_type": "code",
   "metadata": {
    "tags": []
   },
   "execution_count": null,
   "outputs": []
  },
  {
   "cell_type": "code",
   "execution_count": null,
   "metadata": {},
   "outputs": [],
   "source": []
  }
 ],
 "metadata": {
  "kernelspec": {
   "display_name": "Python 3",
   "language": "python",
   "name": "python3"
  },
  "language_info": {
   "codemirror_mode": {
    "name": "ipython",
    "version": 3
   },
   "file_extension": ".py",
   "mimetype": "text/x-python",
   "name": "python",
   "nbconvert_exporter": "python",
   "pygments_lexer": "ipython3",
   "version": "3.7.9-final"
  }
 },
 "nbformat": 4,
 "nbformat_minor": 4
}