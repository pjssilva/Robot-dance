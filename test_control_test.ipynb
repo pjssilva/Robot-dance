{
 "cells": [
  {
   "cell_type": "markdown",
   "metadata": {},
   "source": [
    "# Case studies for Robot Test paper - NYC case"
   ]
  },
  {
   "cell_type": "code",
   "execution_count": null,
   "metadata": {
    "tags": []
   },
   "outputs": [],
   "source": [
    "import os\n",
    "import pandas as pd\n",
    "import numpy as np\n",
    "import datetime\n",
    "import itertools\n",
    "import matplotlib.pylab as plt\n",
    "from matplotlib import rc\n",
    "rc(\"text\", usetex=True)\n",
    "rc(\"font\", family=\"serif\")\n",
    "\n",
    "import run_robot\n",
    "import prepare_data\n",
    "from importlib import reload\n",
    "reload(prepare_data)\n",
    "reload(run_robot)"
   ]
  },
  {
   "cell_type": "code",
   "execution_count": null,
   "metadata": {},
   "outputs": [],
   "source": [
    "t0_day = \"2020-04-14\"\n",
    "tests = pd.read_csv(\"data-nyc/tests_robot_dance.csv\", parse_dates=[0])\n",
    "tests"
   ]
  },
  {
   "cell_type": "code",
   "execution_count": null,
   "metadata": {
    "tags": []
   },
   "outputs": [],
   "source": [
    "basic_prm = prepare_data.save_basic_parameters(min_level=0.8, rep=3.0, ndays=30, window=1)\n",
    "subnot_factor = 1.0\n",
    "cities_data, rt_profile = prepare_data.compute_initial_condition_evolve_and_save(basic_prm, \"NJ\", [\"NYC\"], 10000000, subnot_factor, 1, \"data-nyc/nyc_robot_data.csv\", t0_day=t0_day, tests=tests[\"tests\"].values)\n",
    "cities_data"
   ]
  },
  {
   "cell_type": "code",
   "execution_count": null,
   "metadata": {},
   "outputs": [],
   "source": [
    "rt_profile"
   ]
  },
  {
   "cell_type": "code",
   "execution_count": null,
   "metadata": {},
   "outputs": [],
   "source": [
    "tests_profile = tests[tests[\"date\"] >= pd.to_datetime(t0_day)]\n",
    "tests_profile = tests_profile[\"tests\"].values\n",
    "tests_profile"
   ]
  },
  {
   "cell_type": "code",
   "execution_count": null,
   "metadata": {
    "tags": []
   },
   "outputs": [],
   "source": [
    "# Define the basic data for the case studies\n",
    "\n",
    "# Basic reproduction number\n",
    "basic_rep = 3.0\n",
    "\n",
    "# Simulation horizon\n",
    "# A little more than a year when thevaccine should be here\n",
    "ndays = len(rt_profile)\n",
    "\n",
    "print(ndays, len(rt_profile), len(tests_profile))\n",
    "\n",
    "# Mean time in ICU\n",
    "time_icu = 7\n",
    "\n",
    "# Lockdown level\n",
    "lock_level = 0.6\n",
    "\n",
    "# Define basic paramters\n",
    "basic_prm = prepare_data.save_basic_parameters(min_level=lock_level, rep=basic_rep, time_icu=time_icu, ndays=ndays)\n",
    "\n",
    "# Compute initial values\n",
    "\n",
    "# For DRS\n",
    "cities_data, rt_profile = prepare_data.compute_initial_condition_evolve_and_save(basic_prm, \"NJ\", [], 000000, subnot_factor, 1, \"data-nyc/nyc_robot_data.csv\", t0_day=\"2020-04-14\", tests=tests[\"tests\"].values)\n",
    "cities_data"
   ]
  },
  {
   "cell_type": "code",
   "execution_count": null,
   "metadata": {},
   "outputs": [],
   "source": [
    "t = [0.9179991083247093,0.9179991083247093,0.9179991083247093,0.9179991083247093,0.9179991083247093,0.9179991083247093,0.9179991083247093,0.9179991083247093,0.9179991083247093,0.9179991083247093,0.9179991083247093,0.9179991083247093,0.9179991083247093,0.9179991083247093,0.8257716552168826,0.8257716552168826,0.8257716552168826,0.8257716552168826,0.8257716552168826,0.8257716552168826,0.8257716552168826,0.8257716552168826,0.8257716552168826,0.8257716552168826,0.8257716552168826,0.8257716552168826,0.8257716552168826,0.8257716552168826,3.0,3.0,3.0]\n",
    "len(t)"
   ]
  },
  {
   "cell_type": "code",
   "execution_count": null,
   "metadata": {},
   "outputs": [],
   "source": [
    "# Create a target matrix (max infected level)\n",
    "ncities, ndays = len(cities_data.index), int(basic_prm[\"ndays\"])\n",
    "target = np.ones((ncities, ndays))\n",
    "target = prepare_data.save_target(cities_data, target)\n",
    "\n",
    "# Use a forcedif that releases the cities in the end\n",
    "force_dif = np.ones((ncities, ndays))\n",
    "cities_data"
   ]
  },
  {
   "cell_type": "markdown",
   "metadata": {},
   "source": [
    "## Add information on the time series that estimate the need of ICUs\n",
    "\n",
    "We are using the time series adjusted considering that the mean ICU stay is 7 days (which lead to larger ICU capacity)."
   ]
  },
  {
   "cell_type": "code",
   "execution_count": null,
   "metadata": {},
   "outputs": [],
   "source": [
    "if basic_prm[\"time_icu\"] == 7:\n",
    "    # Time series adjusted considering the mean ICU time is 7 days\n",
    "    ts = np.array([0.00857702, 0.01956817, 0.00180512, 0.0, 1.97780974, -0.9797225, np.sqrt(6.326E-05), 0.009785159188786, 0.010250436563906])\n",
    "else:\n",
    "    raise NotImplementedError\n",
    "\n",
    "ts_drs = np.ones((len(cities_data), len(ts)))\n",
    "ts_drs *= ts\n",
    "ts_drs = pd.DataFrame(data=ts_drs, index=cities_data.index, columns=[\n",
    "    \"rho_min\", \"rho_max\", \"intercept\", \"trend\", \"phi_1\", \"phi_2\", \"sigma_omega\", \"state0\", \"state_less_1\"\n",
    "])\n",
    "ts_drs[\"confidence\"] = 0.9\n",
    "ts_drs[\"time_icu\"] = time_icu\n",
    "cities_data = pd.concat([cities_data, ts_drs], axis=1)\n",
    "cities_data\n"
   ]
  },
  {
   "cell_type": "code",
   "execution_count": null,
   "metadata": {},
   "outputs": [],
   "source": [
    "pd.set_option(\"display.width\", 120)\n",
    "\n",
    "# Simple function to run a test and save results\n",
    "def run_a_test(basic_prm, result_file, figure_file, cities_data, M, target, force_dif, pools=None, budget=0, tests_off=np.zeros(0, int), tau=3, test_efficacy=0.8, daily_tests=0, proportional_tests=False, tests=np.zeros(0), fixed_rt=np.zeros(0), verbosity=1):\n",
    "    run_robot.prepare_optimization(basic_prm, cities_data, M, target, hammer_data, force_dif, pools, \n",
    "        verbosity=verbosity, test_budget=budget, tests_off=tests_off, tau=tau, test_efficacy=test_efficacy, \n",
    "        daily_tests=daily_tests, proportional_tests=proportional_tests, tests=tests, fixed_rt=fixed_rt)\n",
    "    run_robot.optimize_and_show_results(basic_prm, figure_file, result_file, cities_data, target, verbosity=verbosity)\n",
    "    "
   ]
  },
  {
   "cell_type": "code",
   "execution_count": null,
   "metadata": {
    "tags": []
   },
   "outputs": [],
   "source": [
    "# Define mobility matrix.\n",
    "M = prepare_data.convert_mobility_matrix_and_save(cities_data, max_neighbors=1, drs=\"data-nyc/mobility_matrix.csv\")\n",
    "hammer_data = prepare_data.save_hammer_data(cities_data, 0, basic_prm[\"min_level\"])\n",
    "# run_robot.find_feasible_hammer(basic_prm, cities_data, M, target, hammer_data, out_file=None, \n",
    "#     incr_all=True, verbosity=1)\n",
    "print(\"Hammer data\", hammer_data)\n",
    "M.loc[\"NYC\", \"NYC\"]\n"
   ]
  },
  {
   "cell_type": "code",
   "execution_count": null,
   "metadata": {},
   "outputs": [],
   "source": [
    "all_tau = [2] #[1, 2, 3, 4, 5]\n",
    "all_test_efficacy = [0.8] #[0.7, 0.8, 0.9]\n",
    "all_daily_tests = [30000] #[30000] , 50000]\n",
    "all_budgets = [20000000] #[0, 5000000, 10000000, 20000000]"
   ]
  },
  {
   "cell_type": "markdown",
   "metadata": {},
   "source": [
    "## Test experiments\n",
    "\n",
    "### 1 Fix rt and tests as performed"
   ]
  },
  {
   "cell_type": "code",
   "execution_count": null,
   "metadata": {
    "tags": []
   },
   "outputs": [],
   "source": [
    "tau, test_efficacy = 2, 0.8\n",
    "daily_tests, budget = 0, 0\n",
    "\n",
    "print(\"******************** Running tau =\", tau, \"test_effic =\", test_efficacy, \"daily tests =\", daily_tests, \"budget =\", budget)\n",
    "print(\"******************** Test fixed on original values\")\n",
    "\n",
    "# Case 1 - Test fixed\n",
    "basic_prm[\"alternate\"] = 0.0\n",
    "tests_off = np.zeros(0, int)\n",
    "result_file =  f\"results/original_tests_nyc.csv\"\n",
    "figure_file = f\"results/original_tests_nyc.png\"\n",
    "run_a_test(basic_prm, result_file, figure_file, cities_data, M, target, force_dif, None, budget, tests_off, \n",
    "    tau, test_efficacy, daily_tests, False, tests=tests_profile, fixed_rt=rt_profile);\n"
   ]
  },
  {
   "cell_type": "code",
   "execution_count": null,
   "metadata": {},
   "outputs": [],
   "source": [
    "tau, test_efficacy = 2, 0.8\n",
    "daily_tests, budget = 0, 0\n",
    "\n",
    "print(\"******************** Running tau =\", tau, \"test_effic =\", test_efficacy, \"daily tests =\", daily_tests, \"budget =\", budget)\n",
    "print(\"******************** Test with zero tests\")\n",
    "\n",
    "# Case 1 - Test fixed\n",
    "basic_prm[\"alternate\"] = 0.0\n",
    "tests_off = np.zeros(0, int)\n",
    "result_file =  f\"results/no_tests_nyc.csv\"\n",
    "figure_file = f\"results/no_tests_nyc.png\"\n",
    "run_a_test(basic_prm, result_file, figure_file, cities_data, M, 2.0*target, force_dif, None, budget, tests_off, \n",
    "    tau, test_efficacy, daily_tests, False, tests=np.zeros(0), fixed_rt=rt_profile);"
   ]
  },
  {
   "cell_type": "code",
   "execution_count": null,
   "metadata": {},
   "outputs": [],
   "source": [
    "tau, test_efficacy = 2, 0.8\n",
    "pop = cities_data.loc[\"NYC\", \"population\"]\n",
    "total_tests = sum(tests_profile)*pop\n",
    "daily_tests, budget = total_tests, total_tests\n",
    "\n",
    "print(\"******************** Running tau =\", tau, \"test_effic =\", test_efficacy, \"daily tests =\", daily_tests, \"budget =\", budget)\n",
    "print(\"******************** Test with zero tests\")\n",
    "\n",
    "# Case 1 - Test fixed\n",
    "basic_prm[\"alternate\"] = 0.0\n",
    "tests_off = np.zeros(0, int)\n",
    "result_file =  f\"results/optimal_tests_nyc.csv\"\n",
    "figure_file = f\"results/optimal_tests_nyc.png\"\n",
    "run_a_test(basic_prm, result_file, figure_file, cities_data, M, 2.0*target, force_dif, None, budget, tests_off, \n",
    "    tau, test_efficacy, daily_tests, False, tests=np.zeros(0), fixed_rt=rt_profile);"
   ]
  },
  {
   "cell_type": "code",
   "execution_count": null,
   "metadata": {},
   "outputs": [],
   "source": [
    "tau, test_efficacy = 2, 0.8\n",
    "pop = cities_data.loc[\"NYC\", \"population\"]\n",
    "total_tests = sum(tests_profile)*pop\n",
    "daily_tests, budget = total_tests, 10*total_tests\n",
    "\n",
    "print(\"******************** Running tau =\", tau, \"test_effic =\", test_efficacy, \"daily tests =\", daily_tests, \"budget =\", budget)\n",
    "print(\"******************** Test with zero tests\")\n",
    "\n",
    "# Case 1 - Test fixed\n",
    "basic_prm[\"alternate\"] = 0.0\n",
    "tests_off = np.zeros(0, int)\n",
    "result_file =  f\"results/optimal_tests_extra_budget_nyc.csv\"\n",
    "figure_file = f\"results/optimal_tests_extra_budget_nyc.png\"\n",
    "run_a_test(basic_prm, result_file, figure_file, cities_data, M, 2.0*target, force_dif, None, budget, tests_off, \n",
    "    tau, test_efficacy, daily_tests, False, tests=np.zeros(0), fixed_rt=rt_profile);"
   ]
  },
  {
   "cell_type": "code",
   "execution_count": null,
   "metadata": {},
   "outputs": [],
   "source": []
  }
 ],
 "metadata": {
  "kernelspec": {
   "display_name": "Python 3",
   "language": "python",
   "name": "python3"
  },
  "language_info": {
   "codemirror_mode": {
    "name": "ipython",
    "version": 3
   },
   "file_extension": ".py",
   "mimetype": "text/x-python",
   "name": "python",
   "nbconvert_exporter": "python",
   "pygments_lexer": "ipython3",
   "version": "3.7.9-final"
  }
 },
 "nbformat": 4,
 "nbformat_minor": 4
}