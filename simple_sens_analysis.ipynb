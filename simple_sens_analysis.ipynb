{
 "cells": [
  {
   "cell_type": "markdown",
   "metadata": {},
   "source": [
    "# New case studies for Robot Dance paper"
   ]
  },
  {
   "cell_type": "code",
   "execution_count": null,
   "metadata": {
    "tags": []
   },
   "outputs": [],
   "source": [
    "import os\n",
    "import datetime\n",
    "from importlib import reload\n",
    "import pandas as pd\n",
    "import numpy as np\n",
    "import numpy.linalg as la\n",
    "import scipy.stats as stats\n",
    "import matplotlib.pylab as plt\n",
    "from matplotlib import rc\n",
    "rc(\"text\", usetex=True)\n",
    "rc(\"font\", family=\"serif\")\n",
    "\n",
    "import run_robot\n",
    "import prepare_data\n",
    "reload(run_robot)"
   ]
  },
  {
   "cell_type": "markdown",
   "metadata": {},
   "source": [
    "## Define Subnotification factor\n",
    "\n",
    "Between 21st and 29th of July the city of São Paulo made public the result of a research that [17.9% of its population](https://www1.folha.uol.com.br/equilibrioesaude/2020/08/em-sao-paulo-22-dos-moradores-dos-bairros-mais-pobres-ja-pegaram-coronavirus.shtml) had alredy had Covid-19. Here we use that number to find out a reasonable subnotification factor."
   ]
  },
  {
   "cell_type": "code",
   "execution_count": null,
   "metadata": {
    "tags": []
   },
   "outputs": [],
   "source": [
    "basic_prm = prepare_data.save_basic_parameters(min_level=0.8, rep=2.5, ndays=30)\n",
    "subnot_factor = 11.6\n",
    "cities_data = prepare_data.compute_initial_condition_evolve_and_save(basic_prm, \"SP\", [\"SP\"], 10000000, subnot_factor, 1, \"data/manuscript/manuscript_covid_with_drs_07_29.csv\")\n",
    "cities_data\n",
    "\n"
   ]
  },
  {
   "cell_type": "markdown",
   "metadata": {},
   "source": [
    "Now, we define some important decisions:\n",
    "\n",
    "* The basic reproduction rate (R0). The original literature and our own estimates suggest 2.5. But this value seems high nowdays when people are wearing masks, have learned stricter hygiene habits (more hand wahing), and do basic social distancing. I am trying now with 1.8.\n",
    "\n",
    "* Horizon of simulation: we use a little more than one year because after that we should probably have a vacine and the game changes completely.\n",
    "\n",
    "* Mean stay in ICU: mean time in ICU, it will also be used to select the right time series to estimate the number of ICU needed below. We are using 7.\n",
    "\n",
    "* Lockdown level: what is the reproduction level achievable by a strict lockdown. We are using 0.8. Should be smaller than 1."
   ]
  },
  {
   "cell_type": "code",
   "execution_count": null,
   "metadata": {
    "tags": []
   },
   "outputs": [],
   "source": [
    "# Define the basic data for the case studies\n",
    "\n",
    "# Basic reproduction number\n",
    "basic_rep = 1.8\n",
    "\n",
    "# Simulation horizon\n",
    "# A little more than a year when thevaccine should be here\n",
    "ndays = 14*2*14\n",
    "\n",
    "# Mean time in ICU\n",
    "time_icu = 7\n",
    "\n",
    "# Lockdown level\n",
    "lock_level = 0.8\n",
    "\n",
    "# Define basic paramters\n",
    "basic_prm = prepare_data.save_basic_parameters(min_level=lock_level, rep=basic_rep, time_icu=time_icu, ndays=ndays)\n",
    "\n",
    "# Compute initial values\n",
    "\n",
    "# For cities\n",
    "# cities_data = prepare_data.compute_initial_condition_evolve_and_save(basic_prm, \"SP\", [\"Araçatuba\", \"São José Do Rio Preto\"], 500000, 1)\n",
    "# cities_data = prepare_data.compute_initial_condition_evolve_and_save(basic_prm, \"SP\", [\"São José Do Rio Preto\"], 25000, 6, 1)\n",
    "\n",
    "# For DRS\n",
    "cities_data = prepare_data.compute_initial_condition_evolve_and_save(basic_prm, \"SP\", [], 000000, subnot_factor, 1, \"data/manuscript/manuscript_covid_with_drs_07_01.csv\")\n",
    "\n",
    "# Sub-groups for figures\n",
    "sp = [\"SP\"]\n",
    "sp_so = sp + [\"SW\"]\n",
    "masp_names = sp + [\"E\", \"N\", \"W\", \"SE\", \"SW\"]"
   ]
  },
  {
   "cell_type": "code",
   "execution_count": null,
   "metadata": {},
   "outputs": [],
   "source": [
    "# Create a target matrix (max infected level)\n",
    "ncities, ndays = len(cities_data.index), int(basic_prm[\"ndays\"])\n",
    "target = 0.8*np.ones((ncities, ndays))\n",
    "target = prepare_data.save_target(cities_data, target)\n",
    "\n",
    "# Use a forcedif that releases the cities in the end\n",
    "force_dif = np.ones((ncities, ndays))\n",
    "cities_data"
   ]
  },
  {
   "cell_type": "markdown",
   "metadata": {},
   "source": [
    "## Add information on the time series that estimate the need of ICUs\n",
    "\n",
    "We are using the time series adjusted considering that the mean ICU stay is 7 days (which lead to larger ICU capacity)."
   ]
  },
  {
   "cell_type": "code",
   "execution_count": null,
   "metadata": {},
   "outputs": [],
   "source": [
    "if basic_prm[\"time_icu\"] == 11:\n",
    "    # Time series adjusted considering the mean ICU time is 11 days\n",
    "    ts_sp = np.array([0.0074335, 0.01523406, -0.00186355, 0.0, 1.67356018, -0.68192908, np.sqrt(0.00023883),\n",
    "        0.007682840158843, 0.007536060983504])\n",
    "    ts_notsp = np.array([0.00520255, 0.01532709, 0.00044498, 0.0, 1.75553282, -0.76360711, np.sqrt(3.567E-05),\n",
    "        0.005426447471187, 0.005282217308748])\n",
    "elif basic_prm[\"time_icu\"] == 7:\n",
    "    # Time series adjusted considering the mean ICU time is 7 days\n",
    "    ts_sp = np.array([0.01099859, 0.02236023, 0.00370254, 0.0, 1.79119571, -0.80552926, np.sqrt(0.00034005),\n",
    "        0.011644768910252, 0.011221496171591])\n",
    "    ts_notsp = np.array([0.0076481, 0.0218084, 0.00367839, 0.0, 1.81361379, -0.82550856, np.sqrt(8.028E-05),\n",
    "        0.007907216664912, 0.007721801045322])\n",
    "else:\n",
    "    raise NotImplementedError\n",
    "\n",
    "# Index of the cities that form the Metropolitan area of São Paulo\n",
    "MASP = np.array([7, 10, 15, 16, 17, 22]) - 1\n",
    "\n",
    "ts_drs = np.ones((len(cities_data), len(ts_notsp)))\n",
    "ts_drs *= ts_notsp\n",
    "ts_drs[MASP, :] = ts_sp\n",
    "ts_drs = pd.DataFrame(data=ts_drs, index=cities_data.index, columns=[\n",
    "    \"rho_min\", \"rho_max\", \"intercept\", \"trend\", \"phi_1\", \"phi_2\", \"sigma_omega\", \"state0\", \"state_less_1\"\n",
    "])\n",
    "ts_drs[\"confidence\"] = 0.9\n",
    "ts_drs[\"time_icu\"] = time_icu\n",
    "cities_data = pd.concat([cities_data, ts_drs], axis=1)\n",
    "cities_data\n",
    "\n",
    "\n",
    "\n"
   ]
  },
  {
   "cell_type": "code",
   "execution_count": null,
   "metadata": {},
   "outputs": [],
   "source": [
    "pd.set_option(\"display.width\", 120)\n",
    "\n",
    "# Simple function to run a test and save results\n",
    "def run_a_test(basic_prm, result_file, figure_file, cities_data, M, target, force_dif, pools=None, verbosity=1):\n",
    "    run_robot.prepare_optimization(basic_prm, cities_data, M, target, hammer_data, force_dif, pools, verbosity=verbosity)\n",
    "    run_robot.optimize_and_show_results(basic_prm, figure_file, result_file, cities_data, target, verbosity=verbosity)\n",
    "    result = pd.read_csv(result_file, index_col=[0, 1])\n",
    "    run_robot.plot_result(basic_prm, result, figure_file[:-4] + \"_sp.png\", hammer_data.loc[sp, \"duration\"].values, \n",
    "        cities_data[\"start_date\"][0], sp)\n",
    "    plt.savefig(figure_file[:-4] + \"_sp.png\", dpi=150, bbox_inches='tight')\n",
    "    run_robot.plot_result(basic_prm, result, figure_file[:-4] + \"_spso.png\", hammer_data.loc[sp_so, \"duration\"].values, \n",
    "        cities_data[\"start_date\"][0], sp_so)\n",
    "    plt.savefig(figure_file[:-4] + \"_sp_so.png\", dpi=150, bbox_inches='tight')\n",
    "    run_robot.plot_result(basic_prm, result, figure_file[:-4] + \"_rmsp.png\", \n",
    "        hammer_data.loc[masp_names, \"duration\"].values, cities_data[\"start_date\"][0], masp_names)\n",
    "    plt.savefig(figure_file[:-4] + \"_rmsp.png\", dpi=150, bbox_inches='tight')\n"
   ]
  },
  {
   "cell_type": "markdown",
   "metadata": {},
   "source": [
    "## Case 1: 14 day window, no alternation, with mobility (5 neighbors)"
   ]
  },
  {
   "cell_type": "code",
   "execution_count": null,
   "metadata": {
    "tags": []
   },
   "outputs": [],
   "source": [
    "M = prepare_data.convert_mobility_matrix_and_save(cities_data, max_neighbors=5, drs=\"data/manuscript/manuscript_drs_mobility.csv\")\n",
    "hammer_data = prepare_data.save_hammer_data(cities_data, 0, basic_prm[\"min_level\"])\n",
    "run_robot.find_feasible_hammer(basic_prm, cities_data, M, target, hammer_data, out_file=None, \n",
    "    incr_all=True, verbosity=1)\n",
    "M.loc[\"SP\", \"SW\"], M.loc[\"SW\", \"SP\"]"
   ]
  },
  {
   "cell_type": "code",
   "execution_count": null,
   "metadata": {
    "tags": []
   },
   "outputs": [],
   "source": [
    "%%time\n",
    "basic_prm[\"alternate\"] = 0.0\n",
    "result_file = \"results/window_14_noalt_withmobility.csv\"\n",
    "figure_file = \"results/window_14_noalt_withmobility.png\"\n",
    "run_a_test(basic_prm, result_file, figure_file, cities_data, M, target, force_dif)"
   ]
  },
  {
   "cell_type": "code",
   "execution_count": null,
   "metadata": {},
   "outputs": [],
   "source": [
    "def perturb(cities_data, low=0.9, up=1.1):\n",
    "    cities_data = cities_data.copy()\n",
    "    values = cities_data.iloc[:, :4].values\n",
    "    values = values * np.random.uniform(low, up, size=values.shape)\n",
    "    cities_data.iloc[:, :4] = (values.T / la.norm(values, 1, axis=1)).T\n",
    "    return cities_data\n",
    "\n",
    "original_data = cities_data.copy()\n"
   ]
  },
  {
   "cell_type": "code",
   "execution_count": null,
   "metadata": {
    "tags": []
   },
   "outputs": [],
   "source": [
    "cities_data = perturb(original_data)\n",
    "M = prepare_data.convert_mobility_matrix_and_save(cities_data, max_neighbors=5, drs=\"data/manuscript/manuscript_drs_mobility.csv\")\n",
    "hammer_data = prepare_data.save_hammer_data(cities_data, 0, basic_prm[\"min_level\"])\n",
    "run_robot.find_feasible_hammer(basic_prm, cities_data, M, target, hammer_data, out_file=None, \n",
    "    incr_all=True, verbosity=1)\n",
    "M.loc[\"SP\", \"SW\"], M.loc[\"SW\", \"SP\"]\n",
    "basic_prm[\"alternate\"] = 0.0\n",
    "result_file = \"results/window_14_noalt_withmobility2.csv\"\n",
    "figure_file = \"results/window_14_noalt_withmobility2.png\"\n",
    "run_a_test(basic_prm, result_file, figure_file, cities_data, M, target, force_dif)"
   ]
  },
  {
   "cell_type": "code",
   "execution_count": null,
   "metadata": {
    "tags": []
   },
   "outputs": [],
   "source": [
    "cities_data = perturb(original_data)\n",
    "M = prepare_data.convert_mobility_matrix_and_save(cities_data, max_neighbors=5, drs=\"data/manuscript/manuscript_drs_mobility.csv\")\n",
    "hammer_data = prepare_data.save_hammer_data(cities_data, 0, basic_prm[\"min_level\"])\n",
    "run_robot.find_feasible_hammer(basic_prm, cities_data, M, target, hammer_data, out_file=None, \n",
    "    incr_all=True, verbosity=1)\n",
    "M.loc[\"SP\", \"SW\"], M.loc[\"SW\", \"SP\"]\n",
    "basic_prm[\"alternate\"] = 0.0\n",
    "result_file = \"results/window_14_noalt_withmobility3.csv\"\n",
    "figure_file = \"results/window_14_noalt_withmobility3.png\"\n",
    "run_a_test(basic_prm, result_file, figure_file, cities_data, M, target, force_dif)"
   ]
  },
  {
   "cell_type": "code",
   "execution_count": null,
   "metadata": {
    "tags": []
   },
   "outputs": [],
   "source": [
    "cities_data = perturb(original_data)\n",
    "M = prepare_data.convert_mobility_matrix_and_save(cities_data, max_neighbors=5, drs=\"data/manuscript/manuscript_drs_mobility.csv\")\n",
    "hammer_data = prepare_data.save_hammer_data(cities_data, 0, basic_prm[\"min_level\"])\n",
    "run_robot.find_feasible_hammer(basic_prm, cities_data, M, target, hammer_data, out_file=None, \n",
    "    incr_all=True, verbosity=1)\n",
    "M.loc[\"SP\", \"SW\"], M.loc[\"SW\", \"SP\"]\n",
    "basic_prm[\"alternate\"] = 0.0\n",
    "result_file = \"results/window_14_noalt_withmobility4.csv\"\n",
    "figure_file = \"results/window_14_noalt_withmobility4.png\"\n",
    "run_a_test(basic_prm, result_file, figure_file, cities_data, M, target, force_dif)"
   ]
  },
  {
   "cell_type": "code",
   "execution_count": null,
   "metadata": {
    "tags": []
   },
   "outputs": [],
   "source": [
    "cities_data = perturb(original_data)\n",
    "M = prepare_data.convert_mobility_matrix_and_save(cities_data, max_neighbors=5, drs=\"data/manuscript/manuscript_drs_mobility.csv\")\n",
    "hammer_data = prepare_data.save_hammer_data(cities_data, 0, basic_prm[\"min_level\"])\n",
    "run_robot.find_feasible_hammer(basic_prm, cities_data, M, target, hammer_data, out_file=None, \n",
    "    incr_all=True, verbosity=1)\n",
    "M.loc[\"SP\", \"SW\"], M.loc[\"SW\", \"SP\"]\n",
    "basic_prm[\"alternate\"] = 0.0\n",
    "result_file = \"results/window_14_noalt_withmobility5.csv\"\n",
    "figure_file = \"results/window_14_noalt_withmobility5.png\"\n",
    "run_a_test(basic_prm, result_file, figure_file, cities_data, M, target, force_dif)"
   ]
  }
 ],
 "metadata": {
  "kernelspec": {
   "display_name": "Python 3",
   "language": "python",
   "name": "python3"
  },
  "language_info": {
   "codemirror_mode": {
    "name": "ipython",
    "version": 3
   },
   "file_extension": ".py",
   "mimetype": "text/x-python",
   "name": "python",
   "nbconvert_exporter": "python",
   "pygments_lexer": "ipython3",
   "version": "3.7.7-final"
  }
 },
 "nbformat": 4,
 "nbformat_minor": 4
}