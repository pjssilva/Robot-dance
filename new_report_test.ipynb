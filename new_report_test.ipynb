{
 "cells": [
  {
   "cell_type": "markdown",
   "metadata": {},
   "source": [
    "# New case studies for Robot Dance paper"
   ]
  },
  {
   "cell_type": "code",
   "execution_count": null,
   "metadata": {
    "tags": []
   },
   "outputs": [],
   "source": [
    "import os\n",
    "import datetime\n",
    "from importlib import reload\n",
    "import pandas as pd\n",
    "import numpy as np\n",
    "import scipy.stats as stats\n",
    "import matplotlib.pylab as plt\n",
    "\n",
    "import run_robot\n",
    "import prepare_data\n",
    "reload(run_robot)"
   ]
  },
  {
   "cell_type": "markdown",
   "metadata": {},
   "source": [
    "## Define Subnotification factor\n",
    "\n",
    "Between 21st and 29th of July the city of São Paulo made public the result of a research that [17.9% of its population](https://www1.folha.uol.com.br/equilibrioesaude/2020/08/em-sao-paulo-22-dos-moradores-dos-bairros-mais-pobres-ja-pegaram-coronavirus.shtml) had alredy had Covid-19. Here we use that number to find out a reasonable subnotification factor."
   ]
  },
  {
   "cell_type": "code",
   "execution_count": null,
   "metadata": {
    "tags": []
   },
   "outputs": [],
   "source": [
    "basic_prm = prepare_data.save_basic_parameters(min_level=0.8, rep=2.5, ndays=30)\n",
    "subnot_factor = 11.6\n",
    "cities_data = prepare_data.compute_initial_condition_evolve_and_save(basic_prm, \"SP\", [\"Mun. São Paulo\"], 10000000, subnot_factor, 1, \"data/covid_with_drs_07_29.csv\")\n",
    "cities_data\n",
    "\n"
   ]
  },
  {
   "cell_type": "markdown",
   "metadata": {},
   "source": [
    "Now, we define some important decisions:\n",
    "\n",
    "* The basic reproduction rate (R0). The original literature and our own estimates suggest 2.5. But this value seems high nowdays when people are wearing masks, have learned stricter hygiene habits (more hand wahing), and do basic social distancing. I am trying now with 1.8.\n",
    "\n",
    "* Horizon of simulation: we use a little more than one year because after that we should probably have a vacine and the game changes completely.\n",
    "\n",
    "* What time series to use: we are using 7 days (which lead to larger ICU capacity).\n",
    "\n",
    "* Lockdown level: what is the reproduction level achievable by a strict lockdown. We are using 0.8. Should be smaller than 1."
   ]
  },
  {
   "cell_type": "code",
   "execution_count": null,
   "metadata": {
    "tags": []
   },
   "outputs": [],
   "source": [
    "# Define the basic data for the case studies\n",
    "\n",
    "# Basic reproduction number\n",
    "basic_rep = 1.8\n",
    "\n",
    "# Simulation horizon\n",
    "# A little more than a year when thevaccine should be here\n",
    "ndays = 14*2*14\n",
    "\n",
    "# Time series\n",
    "need_icu = 0.00693521103887298\n",
    "time_icu = 7\n",
    "# need_icu = 0.00650997\n",
    "# time_icu = 11\n",
    "\n",
    "# Lockdown level\n",
    "lock_level = 0.8\n",
    "\n",
    "# Define basic paramters\n",
    "basic_prm = prepare_data.save_basic_parameters(min_level=lock_level, rep=basic_rep, ndays=ndays, need_icu=need_icu, time_icu=time_icu)\n",
    "\n",
    "# Compute initial values\n",
    "\n",
    "# For cities\n",
    "# cities_data = prepare_data.compute_initial_condition_evolve_and_save(basic_prm, \"SP\", [\"Araçatuba\", \"São José Do Rio Preto\"], 500000, 1)\n",
    "# cities_data = prepare_data.compute_initial_condition_evolve_and_save(basic_prm, \"SP\", [\"São José Do Rio Preto\"], 25000, 6, 1)\n",
    "\n",
    "# For DRS\n",
    "cities_data = prepare_data.compute_initial_condition_evolve_and_save(basic_prm, \"SP\", [], 000000, subnot_factor, 1, \"data/covid_with_drs_07_01.csv\")\n",
    "\n",
    "# Sub-groups for figures\n",
    "sp = [\"Mun. São Paulo\"]\n",
    "sp_so = sp + [\"Sub região sudoeste - RMSP\"]\n",
    "rmsp = sp + [\"Sub região leste - RMSP\", \"Sub região norte - RMSP\", \"Sub região oeste - RMSP\", \"Sub região sudeste - RMSP\", \"Sub região sudoeste - RMSP\"]"
   ]
  },
  {
   "cell_type": "code",
   "execution_count": null,
   "metadata": {},
   "outputs": [],
   "source": [
    "# Create a target matrix (max infected level)\n",
    "ncities, ndays = len(cities_data.index), int(basic_prm[\"ndays\"])\n",
    "target = 0.8*np.ones((ncities, ndays))\n",
    "target = prepare_data.save_target(cities_data, target)\n",
    "\n",
    "# Use a forcedif that releases the cities in the end\n",
    "force_dif = np.ones((ncities, ndays))\n",
    "cities_data"
   ]
  },
  {
   "cell_type": "code",
   "execution_count": null,
   "metadata": {},
   "outputs": [],
   "source": [
    "pd.set_option(\"display.width\", 120)\n",
    "\n",
    "# Simple function to run a test and save results\n",
    "def run_a_test(basic_prm, result_file, figure_file, cities_data, M, target, force_dif, pools=None, verbosity=1):\n",
    "    hammer_data = prepare_data.save_hammer_data(cities_data, 0, basic_prm[\"min_level\"])\n",
    "    run_robot.find_feasible_hammer(basic_prm, cities_data, M, target, hammer_data, out_file=None, \n",
    "        incr_all=True, verbosity=verbosity)\n",
    "    run_robot.prepare_optimization(basic_prm, cities_data, M, target, hammer_data, force_dif, pools, verbosity=verbosity)\n",
    "    run_robot.optimize_and_show_results(basic_prm, figure_file, result_file, cities_data, verbosity=verbosity)\n",
    "    result = pd.read_csv(result_file, index_col=[0, 1])\n",
    "    run_robot.plot_result(basic_prm, result, figure_file[:-4] + \"_sp.png\", hammer_data[\"duration\"].values, \n",
    "        cities_data[\"start_date\"][0], sp)\n",
    "    plt.savefig(figure_file[:-4] + \"_sp.png\", dpi=150, bbox_inches='tight')\n",
    "    run_robot.plot_result(basic_prm, result, figure_file[:-4] + \"_spso.png\", hammer_data[\"duration\"].values, \n",
    "        cities_data[\"start_date\"][0], sp_so)\n",
    "    plt.savefig(figure_file[:-4] + \"_sp_so.png\", dpi=150, bbox_inches='tight')\n",
    "    run_robot.plot_result(basic_prm, result, figure_file[:-4] + \"_rmsp.png\", hammer_data[\"duration\"].values, \n",
    "        cities_data[\"start_date\"][0], rmsp)\n",
    "    plt.savefig(figure_file[:-4] + \"_rmsp.png\", dpi=150, bbox_inches='tight')\n"
   ]
  },
  {
   "cell_type": "markdown",
   "metadata": {},
   "source": [
    "## Case 1: 14 day window, no alternation, no mobility"
   ]
  },
  {
   "cell_type": "code",
   "execution_count": null,
   "metadata": {},
   "outputs": [],
   "source": [
    "# Define mobility matrix.\n",
    "M = prepare_data.convert_mobility_matrix_and_save(cities_data, max_neighbors=0, drs=True)\n",
    "M.loc[\"Mun. São Paulo\", \"Sub região sudoeste - RMSP\"], M.loc[\"Sub região sudoeste - RMSP\", \"Mun. São Paulo\"]"
   ]
  },
  {
   "cell_type": "code",
   "execution_count": null,
   "metadata": {
    "tags": []
   },
   "outputs": [],
   "source": [
    "%%time\n",
    "basic_prm[\"alternate\"] = 0.0\n",
    "result_file = \"results/window_14_noalt_nomobility.csv\"\n",
    "figure_file = \"results/window_14_noalt_nomobility.png\"\n",
    "run_a_test(basic_prm, result_file, figure_file, cities_data, M, target, force_dif)\n"
   ]
  },
  {
   "cell_type": "markdown",
   "metadata": {},
   "source": [
    "## Case 2: 14 day window, no alternation, with mobility"
   ]
  },
  {
   "cell_type": "code",
   "execution_count": null,
   "metadata": {},
   "outputs": [],
   "source": [
    "# Define mobility matrix (full connection)\n",
    "M = prepare_data.convert_mobility_matrix_and_save(cities_data, max_neighbors=22, drs=True)\n",
    "M.loc[\"Mun. São Paulo\", \"Sub região sudoeste - RMSP\"], M.loc[\"Sub região sudoeste - RMSP\", \"Mun. São Paulo\"]"
   ]
  },
  {
   "cell_type": "code",
   "execution_count": null,
   "metadata": {
    "tags": []
   },
   "outputs": [],
   "source": [
    "%%time\n",
    "basic_prm[\"alternate\"] = 0.0\n",
    "result_file = \"results/window_14_noalt_withmobility.csv\"\n",
    "figure_file = \"results/window_14_noalt_withmobility.png\"\n",
    "run_a_test(basic_prm, result_file, figure_file, cities_data, M, target, force_dif)"
   ]
  },
  {
   "cell_type": "markdown",
   "metadata": {},
   "source": [
    "## Case 3: 14 day window, with alternation, with mobility"
   ]
  },
  {
   "cell_type": "code",
   "execution_count": null,
   "metadata": {},
   "outputs": [],
   "source": [
    "# Start searching for when the \"no alternation\" solution decided for full opening.\n",
    "results = pd.read_csv(\"results/window_14_noalt_withmobility.csv\")\n",
    "results = results[results[\"Variable\"] == \"rt\"]\n",
    "results.drop([\"Variable\"], axis=1, inplace=True)\n",
    "results.set_index(\"City\", inplace=True)\n",
    "\n",
    "def find_last_opening(rts, rep):\n",
    "    \"\"\"Find the first moment where the decision of the nonalternating solution is\n",
    "    to fully open the region.\n",
    "    \"\"\"\n",
    "    rts = rts.values.copy()\n",
    "    rts[rts < 0.95*rep] = 0.0\n",
    "    return len(rts) - rts[::-1].argmin() + 1\n",
    "\n",
    "# Turn off alternation after two windows after the time needed for opening.\n",
    "for i in range(len(results.index)):\n",
    "    opening = find_last_opening(results.iloc[i,:], basic_prm[\"rep\"])\n",
    "    force_dif[i, opening + 2*int(basic_prm[\"window\"]):] = 0.0\n",
    "    "
   ]
  },
  {
   "cell_type": "code",
   "execution_count": null,
   "metadata": {
    "tags": []
   },
   "outputs": [],
   "source": [
    "%%time\n",
    "# Set up alternation weight\n",
    "basic_prm[\"alternate\"] = 1.0\n",
    "result_file = \"results/window_14_withalt_withmobility.csv\"\n",
    "figure_file = \"results/window_14_withalt_withmobility.png\"\n",
    "run_a_test(basic_prm, result_file, figure_file, cities_data, M, target, force_dif)"
   ]
  },
  {
   "cell_type": "markdown",
   "metadata": {},
   "source": [
    "## Case 4: 14 day window, no alternation, with mobility, ICU shared in metropolitan area from day 1"
   ]
  },
  {
   "cell_type": "code",
   "execution_count": null,
   "metadata": {
    "tags": []
   },
   "outputs": [],
   "source": [
    "%%time\n",
    "# Pool with all Sao Paulo metropolitan area\n",
    "pools = [[1], [2], [3], [4], [5], [6], [7],[8], [9, 15, 16, 17, 18, 19], [10], [11], \n",
    "         [12], [13], [14], [20], [21], [22]]\n",
    "\n",
    "force_dif =  np.ones((ncities, ndays))\n",
    "basic_prm[\"alternate\"] = 0.0\n",
    "result_file = \"results/window_14_noalt_withmobility_icushared.csv\"\n",
    "figure_file = \"results/window_14_noalt_withmobility_icushared.png\"\n",
    "run_a_test(basic_prm, result_file, figure_file, cities_data, M, target, force_dif, pools)"
   ]
  },
  {
   "cell_type": "markdown",
   "metadata": {},
   "source": [
    "## Some code to check results"
   ]
  },
  {
   "cell_type": "code",
   "execution_count": null,
   "metadata": {
    "tags": []
   },
   "outputs": [],
   "source": [
    "pool = np.array([9, 15, 16, 17, 18, 19]) - 1\n",
    "cities_names = cities_data.iloc[pool].index\n",
    "population = cities_data[\"population\"]\n",
    "icu_capacity = cities_data[\"icu_capacity\"]\n",
    "total_icus = np.array([(target.loc[c]*population.loc[c]*icu_capacity.loc[c]).values for c in cities_names]).sum(axis=0)\n",
    "simulation = pd.read_csv(\"results/window_14_noalt_withmobility_icushared.csv\", index_col=[0, 1])\n",
    "#simulation = pd.read_csv(\"results/window_14_withalt_withmobility.csv\", index_col=[0, 1])\n",
    "\n",
    "first_day = 0 #hammer_data.iloc[pool, 0].min()\n",
    "last_day = int(basic_prm[\"ndays\"]) #first_day + 50 + 1\n",
    "total_icus = total_icus[first_day:last_day]\n",
    "\n",
    "ts_sp_11 = [0.0074335, 0.01523406, -0.00186355, 0.0, 1.67356018, -0.68192908, np.sqrt(0.00023883),\n",
    "            0.007682840158843, 0.007536060983504]\n",
    "ts_notsp_11 = [0.00520255, 0.01532709, 0.00044498, 0.0, 1.75553282, -0.76360711, np.sqrt(3.567E-05),\n",
    "               0.005426447471187, 0.005282217308748]\n",
    "ts_sp_7 = [0.01099859, 0.02236023, 0.00370254, 0.0,\t1.79119571, -0.80552926, np.sqrt(0.00034005),\n",
    "           0.011644768910252, 0.011221496171591]\n",
    "ts_notsp_7 = [0.0076481, 0.0218084, 0.00367839, 0.0, 1.81361379, -0.82550856, np.sqrt(8.028E-05),\n",
    "              0.007907216664912, 0.007721801045322]\n",
    "\n",
    "\n",
    "if basic_prm[\"time_icu\"] == 7:\n",
    "    if pool[0] == 8:\n",
    "        time_series_parameters = ts_sp_7\n",
    "    else:\n",
    "        time_series_parameters = ts_notsp_7\n",
    "elif basic_prm[\"time_icu\"] == 11:\n",
    "    if pool[0] == 8:\n",
    "        time_series_parameters = ts_sp_11\n",
    "    else:\n",
    "        time_series_parameters = ts_notsp_11\n",
    "else:\n",
    "    raise NotImplementedError\n",
    "\n",
    "# Plot mean \n",
    "time_series = run_robot.SimpleTimeSeries(*time_series_parameters)\n",
    "need_icu = [time_series.iterate(random=False) for i in range(int(basic_prm[\"ndays\"]))]\n",
    "used_icus = simulation.loc[cities_names[0], \"i\"]*need_icu*population[cities_names[0]]\n",
    "for c in cities_names[1:]:\n",
    "    used_icus += simulation.loc[c, \"i\"]*need_icu*population[c]\n",
    "used_icus *= basic_prm[\"time_icu\"]/basic_prm[\"tinf\"]\n",
    "used_icus = used_icus[first_day:last_day]\n",
    "plt.plot(used_icus, color=\"C0\", label=\"ICU occupation\")\n",
    "\n",
    "# Plot upper bound\n",
    "p = 0.1\n",
    "F1p = stats.norm.ppf(1.0 - p)\n",
    "theta = np.array(time_series.theta).copy()\n",
    "upper_bound = need_icu[:]\n",
    "for j in range(len(upper_bound)):\n",
    "    upper_bound[j] += F1p*time_series.sigmaw*time_series.delta*np.sqrt((theta[:j + 1]**2).sum())\n",
    "used_icus = simulation.loc[cities_names[0], \"i\"]*upper_bound*population[cities_names[0]]\n",
    "for c in cities_names[1:]:\n",
    "    used_icus += simulation.loc[c, \"i\"]*upper_bound*population[c]\n",
    "used_icus *= basic_prm[\"time_icu\"]/basic_prm[\"tinf\"]\n",
    "used_icus = used_icus[first_day:last_day]\n",
    "plt.plot(used_icus, label=\"\", color=\"C0\")\n",
    "\n",
    "# Make random simulations\n",
    "total_days = 0\n",
    "bad_days = 0\n",
    "for i in range(100):\n",
    "    time_series.reset()\n",
    "    total_days += last_day - first_day\n",
    "    need_icu = [time_series.iterate(random=True) for i in range(int(basic_prm[\"ndays\"]))]\n",
    "    used_icus = simulation.loc[cities_names[0], \"i\"]*need_icu*population[cities_names[0]]\n",
    "    for c in cities_names[1:]:\n",
    "        used_icus += simulation.loc[c, \"i\"]*need_icu*population[c]\n",
    "    used_icus *= basic_prm[\"time_icu\"]/basic_prm[\"tinf\"]\n",
    "    used_icus = used_icus[first_day:last_day]\n",
    "    bad_days += (used_icus > total_icus).sum()\n",
    "    plt.plot(used_icus, label=\"\", alpha=0.2, color=\"C0\")\n",
    "\n",
    "print(f\"Bad days = {bad_days:d}/{total_days:d} == {bad_days / total_days * 100:f}%\")\n",
    "\n",
    "# Plot results\n",
    "import matplotlib.pylab as plt\n",
    "plt.plot(total_icus, color=\"C3\", label=\"Maximal ICU target\")\n",
    "start_date = pd.Timestamp(cities_data[\"start_date\"][0]) + first_day*pd.to_timedelta(\"1D\")\n",
    "ndays = len(simulation.loc[cities_names[0], \"i\"])\n",
    "ticks = pd.date_range(start_date, start_date + (last_day - first_day)*pd.to_timedelta(\"1D\"), freq=\"1MS\")\n",
    "ticks = list(ticks)\n",
    "if ticks[0] <= start_date + pd.to_timedelta(\"10D\"):\n",
    "    ticks[0] = start_date\n",
    "else:\n",
    "    ticks = [start_date] + ticks\n",
    "plt.gca().set_xticks([(i - start_date).days for i in ticks])\n",
    "labels = [i.strftime('%d/%m/%Y') for i in ticks]\n",
    "plt.gca().set_xticklabels(labels, rotation=45, ha='right')\n",
    "plt.legend()\n",
    "plt.savefig(\"results/icu_usage_with_mobility_sharing.png\", dpi=150, bbox_inches='tight')\n",
    "\n"
   ]
  },
  {
   "cell_type": "code",
   "execution_count": null,
   "metadata": {},
   "outputs": [],
   "source": [
    "## Scratch area, you can ignore"
   ]
  },
  {
   "cell_type": "code",
   "execution_count": null,
   "metadata": {
    "tags": []
   },
   "outputs": [],
   "source": [
    "\n",
    "reload(run_robot)\n",
    "from scipy.stats import norm\n",
    "duration = 40\n",
    "if basic_prm[\"time_icu\"] == 7:\n",
    "    time_series_data = [0.00951258, 0.02407533, 0.01565422, 0.0, 1.04877035, -0.07470716, np.sqrt(0.00413135),\n",
    "        0.01020326268631, 0.009768267929635]\n",
    "elif basic_prm[\"time_icu\"] == 11:\n",
    "    time_series_data = [0.00643884, 0.01740896, 0.0112156, 0.0, 1.10547981, -0.1245054, np.sqrt(0.00368004),\n",
    "        0.00692964502549, 0.006645629100376]\n",
    "else:\n",
    "    raise NotImplementedError\n",
    "\n",
    "time_series = run_robot.SimpleTimeSeries(*time_series_data)\n",
    "eicu = [time_series.iterate() for i in range(duration)]\n",
    "p = 0.1\n",
    "F1p = norm.ppf(1.0 - p)\n",
    "theta = np.array(time_series.theta).copy()\n",
    "upper_bound = eicu[:]\n",
    "for i in range(duration):\n",
    "    upper_bound[i] += F1p*time_series.sigmaw*time_series.delta*np.sqrt((theta[:i + 1]**2).sum())\n",
    "sample_icu = []\n",
    "nsamples = 0\n",
    "nOK = 0\n",
    "for i in range(1000):\n",
    "    start, stop = 0, duration + 1\n",
    "    time_series.reset()\n",
    "    samples = np.array([time_series.iterate(random=True) for i in range(duration)])\n",
    "    sample_icu.append(samples)\n",
    "    nsamples += len(samples[start:stop])\n",
    "    nOK += (samples[start:stop] <= upper_bound[start:stop]).sum()\n",
    "\n",
    "print(nOK, nsamples, 100*nOK/nsamples)"
   ]
  },
  {
   "cell_type": "code",
   "execution_count": null,
   "metadata": {
    "tags": []
   },
   "outputs": [],
   "source": [
    "reload(run_robot)\n",
    "duration = 300\n",
    "\n",
    "real_data_notsp = [0.007288356211975, 0.007103042622601, 0.007029341403695, 0.0070656470111, 0.007075422131827, 0.00714296370424, 0.007237389841399, 0.007414296948385, 0.007623035823047, 0.007785872830279, 0.007943084483993, 0.008101018396868, 0.008204377752122, 0.008232201619806, 0.008231592241771, 0.008284377008278, 0.008393135129875, 0.008485216848133, 0.008568503668316, 0.008670386943494, 0.008773690816812, 0.00883820035545, 0.008842048182623, 0.008834803338496, 0.008782995428861, 0.00854413765541, 0.008151867086792, 0.007760974093624, 0.007344362866667]\n",
    "\n",
    "real_data_sp = [0.007288356211975, 0.007103042622601, 0.007029341403695, 0.0070656470111, 0.007075422131827, 0.00714296370424, 0.007237389841399, 0.007414296948385, 0.007623035823047, 0.007785872830279, 0.007943084483993, 0.008101018396868, 0.008204377752122, 0.008232201619806, 0.008231592241771, 0.008284377008278, 0.008393135129875, 0.008485216848133, 0.008568503668316, 0.008670386943494, 0.008773690816812, 0.00883820035545, 0.008842048182623, 0.008834803338496, 0.008782995428861, 0.00854413765541, 0.008151867086792, 0.007760974093624, 0.007344362866667]\n",
    "\n",
    "old = [0.00643884, 0.01740896, 0.0112156, 0.0, 1.10547981, -0.1245054, np.sqrt(0.00368004),\n",
    "       0.007682840158843, 0.007536060983504]\n",
    "ts_sp_11 = [0.0074335, 0.01523406, -0.00186355, 0.0, 1.67356018, -0.68192908, np.sqrt(0.00023883),\n",
    "            0.007682840158843, 0.007536060983504]\n",
    "ts_notsp_11 = [0.00520255, 0.01532709, 0.00044498, 0.0, 1.75553282, -0.76360711, np.sqrt(3.567E-05),\n",
    "               0.005426447471187, 0.005282217308748]\n",
    "ts_sp_7 = [0.01099859, 0.02236023, 0.00370254, 0.0,\t1.79119571, -0.80552926, np.sqrt(0.00034005),\n",
    "           0.011644768910252, 0.011221496171591]\n",
    "ts_notsp_7 = [0.0076481, 0.0218084, 0.00367839, 0.0, 1.81361379, -0.82550856, np.sqrt(8.028E-05),\n",
    "              0.007907216664912, 0.007721801045322]\n",
    "\n",
    "# time_series = run_robot.SimpleTimeSeries(*old)\n",
    "# eicu = [time_series.iterate() for i in range(duration)]\n",
    "# plt.plot(eicu)\n",
    "# for i in range(100):\n",
    "#     time_series.reset()\n",
    "#     random_traj = [time_series.iterate(random=True) for i in range(duration)]\n",
    "#     plt.plot(random_traj, color=\"C0\", alpha=0.1)\n",
    "\n",
    "\n",
    "time_series = run_robot.SimpleTimeSeries(*ts_notsp_7)\n",
    "eicu = [time_series.iterate() for i in range(duration)]\n",
    "plt.plot(eicu, color=\"C1\")\n",
    "\n",
    "#plt.plot(real_data_sp,color=\"C3\")\n",
    "for i in range(100):\n",
    "    time_series.reset()\n",
    "    random_traj = [time_series.iterate(random=True) for i in range(duration)]\n",
    "    plt.plot(random_traj, color=\"C1\", alpha=0.1)\n"
   ]
  },
  {
   "cell_type": "code",
   "execution_count": null,
   "metadata": {},
   "outputs": [],
   "source": [
    "time_series_parameters = [0.00951258, 0.02407533, 0.01565422, 0.0, 1.04877035, -0.07470716, np.sqrt(0.00413135),\n",
    "        0.01020326268631, 0.009768267929635]\n",
    "ts = run_robot.SimpleTimeSeries(*time_series_parameters)\n",
    "eicu = [ts.iterate() for i in range(duration)]"
   ]
  },
  {
   "cell_type": "code",
   "execution_count": null,
   "metadata": {},
   "outputs": [],
   "source": [
    "eicu[:10]"
   ]
  },
  {
   "cell_type": "code",
   "execution_count": null,
   "metadata": {},
   "outputs": [],
   "source": [
    "time_series_parameters = [0.00951258, 0.02407533, 0.01565422, 0.0, 1.04877035, -0.07470716, np.sqrt(0.00413135),\n",
    "        0.01020326268631, 0.009768267929635]\n",
    "ts = run_robot.SimpleTimeSeries(*time_series_parameters)"
   ]
  },
  {
   "cell_type": "code",
   "execution_count": null,
   "metadata": {},
   "outputs": [],
   "source": [
    "ts.state"
   ]
  },
  {
   "cell_type": "code",
   "execution_count": null,
   "metadata": {},
   "outputs": [],
   "source": [
    "ts.iterate(random=False)"
   ]
  },
  {
   "cell_type": "code",
   "execution_count": null,
   "metadata": {},
   "outputs": [],
   "source": [
    "from scipy.stats import norm\n",
    "p = 0.1\n",
    "F1p = norm.ppf(1.0 - p)\n",
    "theta = np.array(ts.theta).copy()\n",
    "F1p*ts.sigmaw*ts.delta*np.sqrt((theta[:i + 1]**2).sum())"
   ]
  },
  {
   "cell_type": "code",
   "execution_count": null,
   "metadata": {},
   "outputs": [],
   "source": [
    "(theta**2).sum()"
   ]
  },
  {
   "cell_type": "code",
   "execution_count": null,
   "metadata": {},
   "outputs": [],
   "source": [
    "F1p*ts.sigmaw*ts.delta*np.sqrt((theta[:i + 1]**2).sum())\n",
    "\n",
    "\n"
   ]
  },
  {
   "cell_type": "code",
   "execution_count": null,
   "metadata": {},
   "outputs": [],
   "source": []
  }
 ],
 "metadata": {
  "kernelspec": {
   "display_name": "Python 3",
   "language": "python",
   "name": "python3"
  },
  "language_info": {
   "codemirror_mode": {
    "name": "ipython",
    "version": 3
   },
   "file_extension": ".py",
   "mimetype": "text/x-python",
   "name": "python",
   "nbconvert_exporter": "python",
   "pygments_lexer": "ipython3",
   "version": "3.7.7-final"
  }
 },
 "nbformat": 4,
 "nbformat_minor": 4
}